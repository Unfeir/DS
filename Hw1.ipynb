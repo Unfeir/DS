{
  "nbformat": 4,
  "nbformat_minor": 0,
  "metadata": {
    "colab": {
      "provenance": []
    },
    "kernelspec": {
      "name": "python3",
      "display_name": "Python 3"
    },
    "language_info": {
      "name": "python"
    }
  },
  "cells": [
    {
      "cell_type": "code",
      "execution_count": 2,
      "metadata": {
        "id": "Y7dDdEZ5QLYd"
      },
      "outputs": [],
      "source": [
        "import numpy as np"
      ]
    },
    {
      "cell_type": "markdown",
      "source": [
        "1. Створіть одновимірний масив (вектор) з першими 10-ма натуральними числами та виведіть його значення."
      ],
      "metadata": {
        "id": "nZFiAbCqk2Ds"
      }
    },
    {
      "cell_type": "code",
      "source": [
        "vector = np.arange(1, 11)\n",
        "print(vector)"
      ],
      "metadata": {
        "colab": {
          "base_uri": "https://localhost:8080/"
        },
        "id": "1viKI_M0k448",
        "outputId": "c7fb4428-c80f-4fee-d8d9-46b25b5f36f6"
      },
      "execution_count": 3,
      "outputs": [
        {
          "output_type": "stream",
          "name": "stdout",
          "text": [
            "[ 1  2  3  4  5  6  7  8  9 10]\n"
          ]
        }
      ]
    },
    {
      "cell_type": "markdown",
      "source": [
        "2. Створіть двовимірний масив (матрицю) розміром 3x3, заповніть його нулями та виведіть його значення."
      ],
      "metadata": {
        "id": "YvYXSfprk-Xm"
      }
    },
    {
      "cell_type": "code",
      "source": [
        "matrix = np.zeros((3, 3))\n",
        "print(matrix)"
      ],
      "metadata": {
        "colab": {
          "base_uri": "https://localhost:8080/"
        },
        "id": "68LbwOuJk_hk",
        "outputId": "3747cd08-d9df-4dc3-ee22-a30b714c9da7"
      },
      "execution_count": 4,
      "outputs": [
        {
          "output_type": "stream",
          "name": "stdout",
          "text": [
            "[[0. 0. 0.]\n",
            " [0. 0. 0.]\n",
            " [0. 0. 0.]]\n"
          ]
        }
      ]
    },
    {
      "cell_type": "markdown",
      "source": [
        "3. Створіть масив розміром 5x5, заповніть його випадковими цілими числами в діапазоні від 1 до 10 та виведіть його значення."
      ],
      "metadata": {
        "id": "Ltrduw_-k_2m"
      }
    },
    {
      "cell_type": "code",
      "source": [
        "matrix = np.random.randint(1, 11, (5, 5))\n",
        "print(matrix)"
      ],
      "metadata": {
        "colab": {
          "base_uri": "https://localhost:8080/"
        },
        "id": "NwHCsRGDlAAa",
        "outputId": "41ccbaba-887a-424d-b22a-c4de1f60847c"
      },
      "execution_count": 5,
      "outputs": [
        {
          "output_type": "stream",
          "name": "stdout",
          "text": [
            "[[10  9  2  5  1]\n",
            " [ 3  7  9 10  5]\n",
            " [ 2  1  9 10  6]\n",
            " [ 3  1 10  3  8]\n",
            " [ 1  6  5 10  2]]\n"
          ]
        }
      ]
    },
    {
      "cell_type": "markdown",
      "source": [
        "4. Створіть масив розміром 4x4, заповніть його випадковими дійсними числами в діапазоні від 0 до 1 та виведіть його значення."
      ],
      "metadata": {
        "id": "Wx2j14xzlAJp"
      }
    },
    {
      "cell_type": "code",
      "source": [
        "matrix = np.random.rand(4, 4)\n",
        "print(matrix)"
      ],
      "metadata": {
        "colab": {
          "base_uri": "https://localhost:8080/"
        },
        "id": "AErYTbt9lATJ",
        "outputId": "3d262463-7a5e-47cb-fa80-abbb03353f93"
      },
      "execution_count": 8,
      "outputs": [
        {
          "output_type": "stream",
          "name": "stdout",
          "text": [
            "[[0.19373054 0.32221439 0.68963294 0.05534331]\n",
            " [0.48682419 0.35362085 0.94269694 0.9417958 ]\n",
            " [0.06645071 0.35635848 0.26204433 0.99780623]\n",
            " [0.39125028 0.76844593 0.9330771  0.88093548]]\n"
          ]
        }
      ]
    },
    {
      "cell_type": "markdown",
      "source": [
        "5. Створіть два одновимірних масиви розміром 5, заповніть їх випадковими цілими числами в діапазоні від 1 до 10 та виконайте на них поелементні операції додавання, віднімання та множення."
      ],
      "metadata": {
        "id": "o0x_bQRmlAaC"
      }
    },
    {
      "cell_type": "code",
      "source": [
        "vector1 = np.random.randint(1, 11, 5)\n",
        "vector2 = np.random.randint(1, 11, 5)\n",
        "add = vector1 + vector2\n",
        "sub = vector1 - vector2\n",
        "mul = vector1 * vector2\n",
        "\n",
        "print(vector1)\n",
        "print(vector2)\n",
        "print(add)\n",
        "print(sub)\n",
        "print(mul)"
      ],
      "metadata": {
        "colab": {
          "base_uri": "https://localhost:8080/"
        },
        "id": "e7LtnwIPlAhy",
        "outputId": "184c4ef0-d634-4b5d-89e7-aabb30eaa40d"
      },
      "execution_count": 11,
      "outputs": [
        {
          "output_type": "stream",
          "name": "stdout",
          "text": [
            "[6 3 8 3 4]\n",
            "[ 6  3  6  2 10]\n",
            "[12  6 14  5 14]\n",
            "[ 0  0  2  1 -6]\n",
            "[36  9 48  6 40]\n"
          ]
        }
      ]
    },
    {
      "cell_type": "markdown",
      "source": [
        "6. Створіть два вектори розміром 7, заповніть довільними числами та знайдіть їх скалярний добуток."
      ],
      "metadata": {
        "id": "FTqY_LgMlApz"
      }
    },
    {
      "cell_type": "code",
      "source": [
        "vector1 = np.array([1, 2, 3, 4, 5, 6, 7])\n",
        "vector2 = np.array([8, 9, 10, 11, 12, 13, 14])\n",
        "scalar = np.dot(vector1, vector2)\n",
        "print(scalar)"
      ],
      "metadata": {
        "colab": {
          "base_uri": "https://localhost:8080/"
        },
        "id": "Absy5NqKlAyQ",
        "outputId": "df5dc461-3863-4d2f-de4d-588d15ffdc30"
      },
      "execution_count": 13,
      "outputs": [
        {
          "output_type": "stream",
          "name": "stdout",
          "text": [
            "336\n"
          ]
        }
      ]
    },
    {
      "cell_type": "markdown",
      "source": [
        "7. Створіть дві матриці розміром 2x2 та 2x3, заповніть їх випадковими цілими числами в діапазоні від 1 до 10 та перемножте їх між собою."
      ],
      "metadata": {
        "id": "V1Vzb4WplA6i"
      }
    },
    {
      "cell_type": "code",
      "source": [
        "matrix1 = np.random.randint(1, 11, (2, 2))\n",
        "matrix2 = np.random.randint(1, 11, (2, 3))\n",
        "mul = np.dot(matrix1, matrix2)\n",
        "\n",
        "print(matrix1)\n",
        "print(\"\")\n",
        "print(matrix2)\n",
        "print(\"\")\n",
        "print(mul)"
      ],
      "metadata": {
        "colab": {
          "base_uri": "https://localhost:8080/"
        },
        "id": "_6KVwh58lBLO",
        "outputId": "288f1f0a-d889-4b5d-c35d-b95bde81d55f"
      },
      "execution_count": 18,
      "outputs": [
        {
          "output_type": "stream",
          "name": "stdout",
          "text": [
            "[[ 2  5]\n",
            " [10  5]]\n",
            "\n",
            "[[ 8  5 10]\n",
            " [ 7  2  7]]\n",
            "\n",
            "[[ 51  20  55]\n",
            " [115  60 135]]\n"
          ]
        }
      ]
    },
    {
      "cell_type": "markdown",
      "source": [
        "8. Створіть матрицю розміром 3x3, заповніть її випадковими цілими числами в діапазоні від 1 до 10 та знайдіть її обернену матрицю.\n",
        "\n"
      ],
      "metadata": {
        "id": "DuUn7eRYlj23"
      }
    },
    {
      "cell_type": "code",
      "source": [
        "matrix = np.random.randint(1, 11, (3, 3))\n",
        "matrix_inv = np.linalg.inv(matrix)\n",
        "\n",
        "\n",
        "print(matrix)\n",
        "print(\"\")\n",
        "print(matrix_inv)"
      ],
      "metadata": {
        "colab": {
          "base_uri": "https://localhost:8080/"
        },
        "id": "HFapV8LmlkPO",
        "outputId": "855730d8-7ba4-4626-8726-74c36ba46fd5"
      },
      "execution_count": 23,
      "outputs": [
        {
          "output_type": "stream",
          "name": "stdout",
          "text": [
            "[[2 2 2]\n",
            " [4 9 7]\n",
            " [4 4 8]]\n",
            "\n",
            "[[ 1.1  -0.2  -0.1 ]\n",
            " [-0.1   0.2  -0.15]\n",
            " [-0.5  -0.    0.25]]\n"
          ]
        }
      ]
    },
    {
      "cell_type": "markdown",
      "source": [
        "9. Створіть матрицю розміром 4x4, заповніть її випадковими дійсними числами в діапазоні від 0 до 1 та транспонуйте її."
      ],
      "metadata": {
        "id": "j5N_HTIRlkYW"
      }
    },
    {
      "cell_type": "code",
      "source": [
        "matrix = np.random.rand(4, 4)\n",
        "t_matrix = matrix.T\n",
        "\n",
        "print(matrix)\n",
        "print(\"\")\n",
        "print(t_matrix)"
      ],
      "metadata": {
        "colab": {
          "base_uri": "https://localhost:8080/"
        },
        "id": "Nj1DczhqlkgC",
        "outputId": "95c43bc9-694a-445c-8c86-0f13b386ea8d"
      },
      "execution_count": 28,
      "outputs": [
        {
          "output_type": "stream",
          "name": "stdout",
          "text": [
            "[[0.03629763 0.71440918 0.21960804 0.99419647]\n",
            " [0.02294794 0.55441998 0.36247756 0.25110091]\n",
            " [0.32319644 0.10967142 0.17707227 0.50287256]\n",
            " [0.17194186 0.25743229 0.20867613 0.08020121]]\n",
            "\n",
            "[[0.03629763 0.02294794 0.32319644 0.17194186]\n",
            " [0.71440918 0.55441998 0.10967142 0.25743229]\n",
            " [0.21960804 0.36247756 0.17707227 0.20867613]\n",
            " [0.99419647 0.25110091 0.50287256 0.08020121]]\n"
          ]
        }
      ]
    },
    {
      "cell_type": "markdown",
      "source": [
        "10. Створіть матрицю розміром 3x4 та вектор розміром 4, заповніть їх випадковими цілими числами в діапазоні від 1 до 10 та перемножте матрицю на вектор."
      ],
      "metadata": {
        "id": "vlJh3W9Mlkni"
      }
    },
    {
      "cell_type": "code",
      "source": [
        "matrix = np.random.randint(1, 11, (3, 4))\n",
        "vector = np.random.randint(1, 11, 4)\n",
        "mul = np.dot(matrix, vector)\n",
        "\n",
        "print(matrix)\n",
        "print(\"\")\n",
        "print(vector)\n",
        "print(\"\")\n",
        "print(mul)"
      ],
      "metadata": {
        "colab": {
          "base_uri": "https://localhost:8080/"
        },
        "id": "8_m5KYnHlkvf",
        "outputId": "af4a947f-1d94-4741-cd2c-00416ccc6419"
      },
      "execution_count": 31,
      "outputs": [
        {
          "output_type": "stream",
          "name": "stdout",
          "text": [
            "[[10  7  7  9]\n",
            " [ 3  9  7  2]\n",
            " [ 6  9 10  8]]\n",
            "\n",
            "[3 7 5 3]\n",
            "\n",
            "[141 113 155]\n"
          ]
        }
      ]
    },
    {
      "cell_type": "markdown",
      "source": [
        "11. Створіть матрицю розміром 2x3 та вектор розміром 3, заповніть їх випадковими дійсними числами в діапазоні від 0 до 1 та перемножте матрицю на вектор."
      ],
      "metadata": {
        "id": "73FewG1ylk39"
      }
    },
    {
      "cell_type": "code",
      "source": [
        "matrix = np.random.rand(2, 3)\n",
        "vector = np.random.rand(3)\n",
        "mul = np.dot(matrix, vector)\n",
        "\n",
        "print(matrix)\n",
        "print(\"\")\n",
        "print(vector)\n",
        "print(\"\")\n",
        "print(mul)"
      ],
      "metadata": {
        "colab": {
          "base_uri": "https://localhost:8080/"
        },
        "id": "Vz4eeROyllAl",
        "outputId": "03455093-058f-4ee0-fc18-9519e71e227d"
      },
      "execution_count": 32,
      "outputs": [
        {
          "output_type": "stream",
          "name": "stdout",
          "text": [
            "[[0.44403528 0.49059361 0.55895682]\n",
            " [0.44159626 0.45653686 0.60550327]]\n",
            "\n",
            "[0.40574585 0.74735965 0.1065086 ]\n",
            "\n",
            "[0.60634906 0.58486439]\n"
          ]
        }
      ]
    },
    {
      "cell_type": "markdown",
      "source": [
        "12. Створіть дві матриці розміром 2x2, заповніть їх випадковими цілими числами в діапазоні від 1 до 10 та виконайте їхнє поелементне множення."
      ],
      "metadata": {
        "id": "0hd8RTRZllIW"
      }
    },
    {
      "cell_type": "code",
      "source": [
        "matrix1 = np.random.randint(1, 11, (2, 2))\n",
        "matrix2 = np.random.randint(1, 11, (2, 2))\n",
        "mul = matrix1 * matrix2\n",
        "\n",
        "print(matrix1)\n",
        "print(\"\")\n",
        "print(matrix2)\n",
        "print(\"\")\n",
        "print(mul)"
      ],
      "metadata": {
        "colab": {
          "base_uri": "https://localhost:8080/"
        },
        "id": "SAkXA1H4llPu",
        "outputId": "fe4f4723-f4d9-463b-9128-d8756e64c0b8"
      },
      "execution_count": 34,
      "outputs": [
        {
          "output_type": "stream",
          "name": "stdout",
          "text": [
            "[[2 5]\n",
            " [7 4]]\n",
            "\n",
            "[[8 3]\n",
            " [2 7]]\n",
            "\n",
            "[[16 15]\n",
            " [14 28]]\n"
          ]
        }
      ]
    },
    {
      "cell_type": "markdown",
      "source": [
        "13. Створіть дві матриці розміром 2x2, заповніть їх випадковими цілими числами в діапазоні від 1 до 10 та знайдіть їх добуток."
      ],
      "metadata": {
        "id": "E9Ffr_9ullXS"
      }
    },
    {
      "cell_type": "code",
      "source": [
        "matrix1 = np.random.randint(1, 11, (2, 2))\n",
        "matrix2 = np.random.randint(1, 11, (2, 2))\n",
        "mul = np.dot(matrix1, matrix2)\n",
        "\n",
        "\n",
        "print(matrix1)\n",
        "print(\"\")\n",
        "print(matrix2)\n",
        "print(\"\")\n",
        "print(mul)"
      ],
      "metadata": {
        "colab": {
          "base_uri": "https://localhost:8080/"
        },
        "id": "jfFXqogSlleZ",
        "outputId": "1085f118-f7c7-4a42-ccb8-c4fc341d852e"
      },
      "execution_count": 36,
      "outputs": [
        {
          "output_type": "stream",
          "name": "stdout",
          "text": [
            "[[3 5]\n",
            " [5 7]]\n",
            "\n",
            "[[8 7]\n",
            " [3 1]]\n",
            "\n",
            "[[39 26]\n",
            " [61 42]]\n",
            "\n",
            "[[24 35]\n",
            " [15  7]]\n"
          ]
        }
      ]
    },
    {
      "cell_type": "markdown",
      "source": [
        "14. Створіть матрицю розміром 5x5, заповніть її випадковими цілими числами в діапазоні від 1 до 100 та знайдіть суму елементів матриці."
      ],
      "metadata": {
        "id": "q6i0-Vbnlll6"
      }
    },
    {
      "cell_type": "code",
      "source": [
        "matrix = np.random.randint(1, 101, (5, 5))\n",
        "sum = matrix.sum()\n",
        "\n",
        "print(matrix)\n",
        "print(\"\")\n",
        "print(sum)"
      ],
      "metadata": {
        "colab": {
          "base_uri": "https://localhost:8080/"
        },
        "id": "X8s8g9lLllv-",
        "outputId": "67da169c-fa62-4c0d-e58f-e01bd5497dad"
      },
      "execution_count": 38,
      "outputs": [
        {
          "output_type": "stream",
          "name": "stdout",
          "text": [
            "[[81 92 67 35 33]\n",
            " [38 17 74 84 31]\n",
            " [ 2 93 69 64  9]\n",
            " [63 48 79  6 64]\n",
            " [ 2 96 40 62 70]]\n",
            "\n",
            "1319\n"
          ]
        }
      ]
    },
    {
      "cell_type": "markdown",
      "source": [
        "15. Створіть дві матриці розміром 4x4, заповніть їх випадковими цілими числами в діапазоні від 1 до 10 та знайдіть їхню різницю."
      ],
      "metadata": {
        "id": "hnkVqbVLl9yN"
      }
    },
    {
      "cell_type": "code",
      "source": [
        "matrix1 = np.random.randint(1, 11, (4, 4))\n",
        "matrix2 = np.random.randint(1, 11, (4, 4))\n",
        "sub = matrix1 - matrix2\n",
        "\n",
        "print(matrix1)\n",
        "print(\"\")\n",
        "print(matrix2)\n",
        "print(\"\")\n",
        "print(sub)"
      ],
      "metadata": {
        "colab": {
          "base_uri": "https://localhost:8080/"
        },
        "id": "e4BoR02dl97e",
        "outputId": "ed416f88-b03f-4cc0-aa34-8311d4dc9744"
      },
      "execution_count": 39,
      "outputs": [
        {
          "output_type": "stream",
          "name": "stdout",
          "text": [
            "[[10  6  2  1]\n",
            " [ 5  4  6  1]\n",
            " [ 7  4  8  7]\n",
            " [ 9  3 10  9]]\n",
            "\n",
            "[[ 7  9  3  4]\n",
            " [ 5  7  7  4]\n",
            " [ 3  7  2  2]\n",
            " [ 2  8 10  1]]\n",
            "\n",
            "[[ 3 -3 -1 -3]\n",
            " [ 0 -3 -1 -3]\n",
            " [ 4 -3  6  5]\n",
            " [ 7 -5  0  8]]\n"
          ]
        }
      ]
    },
    {
      "cell_type": "markdown",
      "source": [
        "16. Створіть матрицю розміром 3x3, заповніть її випадковими дійсними числами в діапазоні від 0 до 1 та знайдіть вектор-стовпчик, що містить суму елементів кожного рядка матриці."
      ],
      "metadata": {
        "id": "hGpOcPdPl-FQ"
      }
    },
    {
      "cell_type": "code",
      "source": [
        "matrix = np.random.rand(3, 3)\n",
        "row_sums = np.sum(matrix, axis=1)\n",
        "c_vector = row_sums.reshape(-1, 1)\n",
        "\n",
        "print(matrix)\n",
        "print(row_sums)\n",
        "print(c_vector)\n"
      ],
      "metadata": {
        "colab": {
          "base_uri": "https://localhost:8080/"
        },
        "id": "8Q0iGO03l-Me",
        "outputId": "8a5d56a6-3bb8-4c54-ed10-3d807b16b325"
      },
      "execution_count": 46,
      "outputs": [
        {
          "output_type": "stream",
          "name": "stdout",
          "text": [
            "[[0.27637935 0.74314084 0.79376262]\n",
            " [0.05553152 0.80847087 0.61942674]\n",
            " [0.58917182 0.2129698  0.38892748]]\n",
            "[1.81328281 1.48342914 1.1910691 ]\n",
            "[[1.81328281]\n",
            " [1.48342914]\n",
            " [1.1910691 ]]\n"
          ]
        }
      ]
    },
    {
      "cell_type": "markdown",
      "source": [
        "17. Створіть матрицю розміром 3x4 з довільними цілими числами і створінь матрицю з квадратами цих чисел."
      ],
      "metadata": {
        "id": "a2E1vMxJl-Sp"
      }
    },
    {
      "cell_type": "code",
      "source": [
        "matrix = np.random.randint(-10, 11, (3, 4))\n",
        "sq = np.square(matrix)\n",
        "\n",
        "print(matrix)\n",
        "print(\"\")\n",
        "print(sq)"
      ],
      "metadata": {
        "colab": {
          "base_uri": "https://localhost:8080/"
        },
        "id": "ODnW9gHrl-bL",
        "outputId": "0e1825dc-0779-49b4-d17d-5ca590df7db4"
      },
      "execution_count": 48,
      "outputs": [
        {
          "output_type": "stream",
          "name": "stdout",
          "text": [
            "[[ 5 -3  8  1]\n",
            " [ 6 -4  9 -5]\n",
            " [-5 -2 10 -4]]\n",
            "\n",
            "[[ 25   9  64   1]\n",
            " [ 36  16  81  25]\n",
            " [ 25   4 100  16]]\n"
          ]
        }
      ]
    },
    {
      "cell_type": "markdown",
      "source": [
        "18. Створіть вектор розміром 4, заповніть його випадковими цілими числами в діапазоні від 1 до 50 та знайдіть вектор з квадратними коренями цих чисел."
      ],
      "metadata": {
        "id": "UPXTjfSkl-hO"
      }
    },
    {
      "cell_type": "code",
      "source": [
        "vector = np.random.randint(1, 51, 4)\n",
        "sq = np.sqrt(vector)\n",
        "\n",
        "\n",
        "print(vector)\n",
        "print(\"\")\n",
        "print(sq)\n"
      ],
      "metadata": {
        "colab": {
          "base_uri": "https://localhost:8080/"
        },
        "id": "RxDY-9ISl-ol",
        "outputId": "b85c5d89-b921-47f8-f197-71fadaa0e9f4"
      },
      "execution_count": 51,
      "outputs": [
        {
          "output_type": "stream",
          "name": "stdout",
          "text": [
            "[32 41 37 39]\n",
            "\n",
            "[1024 1681 1369 1521]\n",
            "\n",
            "[5.65685425 6.40312424 6.08276253 6.244998  ]\n"
          ]
        }
      ]
    }
  ]
}