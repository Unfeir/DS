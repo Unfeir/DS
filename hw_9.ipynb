{
  "nbformat": 4,
  "nbformat_minor": 0,
  "metadata": {
    "colab": {
      "provenance": [],
      "authorship_tag": "ABX9TyO1HJDUTbLvzAv/0j4cqXmB",
      "include_colab_link": true
    },
    "kernelspec": {
      "name": "python3",
      "display_name": "Python 3"
    },
    "language_info": {
      "name": "python"
    }
  },
  "cells": [
    {
      "cell_type": "markdown",
      "metadata": {
        "id": "view-in-github",
        "colab_type": "text"
      },
      "source": [
        "<a href=\"https://colab.research.google.com/github/Unfeir/DS/blob/main/hw_9.ipynb\" target=\"_parent\"><img src=\"https://colab.research.google.com/assets/colab-badge.svg\" alt=\"Open In Colab\"/></a>"
      ]
    },
    {
      "cell_type": "code",
      "execution_count": 190,
      "metadata": {
        "id": "EDFkisl0S82T"
      },
      "outputs": [],
      "source": [
        "import numpy as np\n",
        "import pandas as pd\n",
        "import cv2\n",
        "import matplotlib.pyplot as plt\n",
        "import seaborn as sn\n",
        "import tensorflow as tf\n",
        "from sklearn.model_selection import train_test_split\n",
        "from tensorflow import keras\n",
        "\n",
        "from tensorflow.keras.models import Sequential, Model\n",
        "from tensorflow.keras.layers import Dense, Dropout\n",
        "from tensorflow.keras.callbacks import EarlyStopping, ModelCheckpoint\n",
        "from tensorflow.keras.optimizers import Adam, SGD, RMSprop\n",
        "from tensorflow.keras.metrics import Accuracy\n",
        "from tensorflow.keras.datasets import fashion_mnist\n",
        "from keras.datasets import imdb\n",
        "\n",
        "\n",
        "from keras import losses\n",
        "from keras import metrics\n",
        "from keras import optimizers"
      ]
    },
    {
      "cell_type": "code",
      "source": [
        "num_classes = 10\n",
        "num_features = 784\n",
        "\n",
        "learning_rate = 0.01\n",
        "n_epochs = 20\n",
        "\n",
        "batch_size = 256\n",
        "batch_size2 = 512\n",
        "batch_size3 = 128\n",
        "\n",
        "n_hidden_1 = 128\n",
        "n_hidden_2 = 256\n",
        "\n"
      ],
      "metadata": {
        "id": "uz_8iqX7Uc0Q"
      },
      "execution_count": 194,
      "outputs": []
    },
    {
      "cell_type": "code",
      "source": [
        "(x_train, y_train), (x_test, y_test) = fashion_mnist.load_data()\n",
        "\n"
      ],
      "metadata": {
        "id": "LzSVfTPdUd8W"
      },
      "execution_count": 125,
      "outputs": []
    },
    {
      "cell_type": "code",
      "source": [
        "x_train.shape, x_test.shape, y_train.shape, y_test.shape\n"
      ],
      "metadata": {
        "colab": {
          "base_uri": "https://localhost:8080/"
        },
        "id": "i71FV8RqVGHG",
        "outputId": "156b4786-02c5-4c75-9edd-4517338b87fd"
      },
      "execution_count": 139,
      "outputs": [
        {
          "output_type": "execute_result",
          "data": {
            "text/plain": [
              "((60000, 784), (10000, 784), (60000,), (10000,))"
            ]
          },
          "metadata": {},
          "execution_count": 139
        }
      ]
    },
    {
      "cell_type": "code",
      "source": [
        "x_train, x_test = x_train.astype('float32') , x_test.astype('float32')\n"
      ],
      "metadata": {
        "id": "vFhnoU9IVmKq"
      },
      "execution_count": null,
      "outputs": []
    },
    {
      "cell_type": "code",
      "source": [
        "# SGD\n",
        "model = Sequential(\n",
        "    [\n",
        "        Dense(n_hidden_1, input_shape=(len(x_train[0]),), activation=\"relu\"),\n",
        "        Dense(n_hidden_2, activation=\"relu\"),\n",
        "        Dense(10, activation=\"softmax\"),\n",
        "    ]\n",
        ")\n",
        "\n",
        "model.compile(\n",
        "    optimizer=SGD(learning_rate=0.001),\n",
        "    loss=\"categorical_crossentropy\",\n",
        "    metrics=[\"accuracy\"],\n",
        ")\n",
        "\n",
        "\n",
        "callback_early_stopping = EarlyStopping(\n",
        "    monitor=\"val_accuracy\",\n",
        "    patience=2,\n",
        "    verbose=1,\n",
        "    mode=\"max\",\n",
        ")\n",
        "\n",
        "y_train_enc = keras.utils.to_categorical(y_train, num_classes)\n",
        "y_test_enc = keras.utils.to_categorical(y_test, num_classes)\n",
        "y_train_enc, y_test_enc\n",
        "\n",
        "model.fit(x_train,\n",
        "          y_train_enc,\n",
        "          epochs=n_epochs,\n",
        "          batch_size=batch_size,\n",
        "          validation_data=(x_test, y_test_enc),\n",
        "          verbose=1,\n",
        "          callbacks=[callback_early_stopping])"
      ],
      "metadata": {
        "colab": {
          "base_uri": "https://localhost:8080/"
        },
        "id": "m0ZjyD2CtSpr",
        "outputId": "f7c34e89-5e30-4ca5-e4f4-ed52367be95b"
      },
      "execution_count": 172,
      "outputs": [
        {
          "output_type": "stream",
          "name": "stdout",
          "text": [
            "Epoch 1/20\n",
            "235/235 [==============================] - 4s 13ms/step - loss: 2.3017 - accuracy: 0.1938 - val_loss: 2.3012 - val_accuracy: 0.2721\n",
            "Epoch 2/20\n",
            "235/235 [==============================] - 3s 12ms/step - loss: 2.3010 - accuracy: 0.2964 - val_loss: 2.3008 - val_accuracy: 0.3062\n",
            "Epoch 3/20\n",
            "235/235 [==============================] - 2s 9ms/step - loss: 2.3007 - accuracy: 0.2799 - val_loss: 2.3006 - val_accuracy: 0.3092\n",
            "Epoch 4/20\n",
            "235/235 [==============================] - 2s 9ms/step - loss: 2.3005 - accuracy: 0.3088 - val_loss: 2.3005 - val_accuracy: 0.3067\n",
            "Epoch 5/20\n",
            "235/235 [==============================] - 3s 13ms/step - loss: 2.3004 - accuracy: 0.3128 - val_loss: 2.3004 - val_accuracy: 0.3355\n",
            "Epoch 6/20\n",
            "235/235 [==============================] - 3s 11ms/step - loss: 2.3003 - accuracy: 0.3319 - val_loss: 2.3003 - val_accuracy: 0.3452\n",
            "Epoch 7/20\n",
            "235/235 [==============================] - 3s 12ms/step - loss: 2.3003 - accuracy: 0.3283 - val_loss: 2.3003 - val_accuracy: 0.3476\n",
            "Epoch 8/20\n",
            "235/235 [==============================] - 2s 9ms/step - loss: 2.3002 - accuracy: 0.3243 - val_loss: 2.3002 - val_accuracy: 0.3469\n",
            "Epoch 9/20\n",
            "235/235 [==============================] - 2s 9ms/step - loss: 2.3002 - accuracy: 0.3317 - val_loss: 2.3002 - val_accuracy: 0.3464\n",
            "Epoch 9: early stopping\n"
          ]
        },
        {
          "output_type": "execute_result",
          "data": {
            "text/plain": [
              "<keras.callbacks.History at 0x7f6fc25e7310>"
            ]
          },
          "metadata": {},
          "execution_count": 172
        }
      ]
    },
    {
      "cell_type": "code",
      "source": [
        "# sigmoid\n",
        "model = Sequential(\n",
        "    [\n",
        "        Dense(128, input_shape=(len(x_train[0]),), activation=\"relu\"),\n",
        "        Dense(256, activation=\"relu\"),\n",
        "        Dense(10, activation=\"sigmoid\"),\n",
        "    ]\n",
        ")\n",
        "\n",
        "model.compile(\n",
        "    optimizer=Adam(learning_rate=learning_rate),\n",
        "    loss=\"categorical_crossentropy\",\n",
        "    metrics=[\"accuracy\"],\n",
        ")\n",
        "\n",
        "\n",
        "callback_early_stopping = EarlyStopping(\n",
        "    monitor=\"val_accuracy\",\n",
        "    patience=2,\n",
        "    verbose=1,\n",
        "    mode=\"max\",\n",
        ")\n",
        "\n",
        "y_train_enc = keras.utils.to_categorical(y_train, num_classes)\n",
        "y_test_enc = keras.utils.to_categorical(y_test, num_classes)\n",
        "y_train_enc, y_test_enc\n",
        "\n",
        "model.fit(x_train,\n",
        "          y_train_enc,\n",
        "          epochs=n_epochs,\n",
        "          batch_size=batch_size,\n",
        "          validation_data=(x_test, y_test_enc),\n",
        "          verbose=1,\n",
        "          callbacks=[callback_early_stopping])"
      ],
      "metadata": {
        "colab": {
          "base_uri": "https://localhost:8080/"
        },
        "id": "-Uhc4YFStxxw",
        "outputId": "0dd26a99-43ac-4de9-8a37-659cf2182141"
      },
      "execution_count": 174,
      "outputs": [
        {
          "output_type": "stream",
          "name": "stdout",
          "text": [
            "Epoch 1/20\n",
            "235/235 [==============================] - 3s 11ms/step - loss: 0.7914 - accuracy: 0.7029 - val_loss: 0.6045 - val_accuracy: 0.7733\n",
            "Epoch 2/20\n",
            "235/235 [==============================] - 2s 10ms/step - loss: 0.4809 - accuracy: 0.8242 - val_loss: 0.4783 - val_accuracy: 0.8264\n",
            "Epoch 3/20\n",
            "235/235 [==============================] - 2s 10ms/step - loss: 0.4195 - accuracy: 0.8472 - val_loss: 0.4237 - val_accuracy: 0.8444\n",
            "Epoch 4/20\n",
            "235/235 [==============================] - 3s 14ms/step - loss: 0.3871 - accuracy: 0.8580 - val_loss: 0.4086 - val_accuracy: 0.8518\n",
            "Epoch 5/20\n",
            "235/235 [==============================] - 2s 10ms/step - loss: 0.3686 - accuracy: 0.8640 - val_loss: 0.3937 - val_accuracy: 0.8561\n",
            "Epoch 6/20\n",
            "235/235 [==============================] - 2s 9ms/step - loss: 0.3545 - accuracy: 0.8700 - val_loss: 0.3850 - val_accuracy: 0.8614\n",
            "Epoch 7/20\n",
            "235/235 [==============================] - 2s 9ms/step - loss: 0.3342 - accuracy: 0.8780 - val_loss: 0.3856 - val_accuracy: 0.8631\n",
            "Epoch 8/20\n",
            "235/235 [==============================] - 2s 10ms/step - loss: 0.3250 - accuracy: 0.8799 - val_loss: 0.3684 - val_accuracy: 0.8653\n",
            "Epoch 9/20\n",
            "235/235 [==============================] - 3s 13ms/step - loss: 0.3117 - accuracy: 0.8853 - val_loss: 0.3651 - val_accuracy: 0.8668\n",
            "Epoch 10/20\n",
            "235/235 [==============================] - 3s 11ms/step - loss: 0.3080 - accuracy: 0.8854 - val_loss: 0.3760 - val_accuracy: 0.8651\n",
            "Epoch 11/20\n",
            "235/235 [==============================] - 2s 10ms/step - loss: 0.3009 - accuracy: 0.8887 - val_loss: 0.3623 - val_accuracy: 0.8668\n",
            "Epoch 11: early stopping\n"
          ]
        },
        {
          "output_type": "execute_result",
          "data": {
            "text/plain": [
              "<keras.callbacks.History at 0x7f6fd35c67a0>"
            ]
          },
          "metadata": {},
          "execution_count": 174
        }
      ]
    },
    {
      "cell_type": "code",
      "source": [
        "# додаткові шари\n",
        "model = Sequential(\n",
        "    [\n",
        "        Dense(128, input_shape=(len(x_train[0]),), activation=\"relu\"),\n",
        "        Dense(256, activation=\"relu\"),\n",
        "        Dense(256, activation=\"relu\"),\n",
        "        Dense(256, activation=\"relu\"),\n",
        "        Dense(256, activation=\"relu\"),\n",
        "        Dense(10, activation=\"softmax\"),\n",
        "    ]\n",
        ")\n",
        "\n",
        "model.compile(\n",
        "    optimizer=Adam(learning_rate=learning_rate),\n",
        "    loss=\"categorical_crossentropy\",\n",
        "    metrics=[\"accuracy\"],\n",
        ")\n",
        "\n",
        "\n",
        "callback_early_stopping = EarlyStopping(\n",
        "    monitor=\"val_accuracy\",\n",
        "    patience=2,\n",
        "    verbose=1,\n",
        "    mode=\"max\",\n",
        ")\n",
        "\n",
        "y_train_enc = keras.utils.to_categorical(y_train, num_classes)\n",
        "y_test_enc = keras.utils.to_categorical(y_test, num_classes)\n",
        "y_train_enc, y_test_enc\n",
        "\n",
        "model.fit(x_train,\n",
        "          y_train_enc,\n",
        "          epochs=n_epochs,\n",
        "          batch_size=batch_size,\n",
        "          validation_data=(x_test, y_test_enc),\n",
        "          verbose=1,\n",
        "          callbacks=[callback_early_stopping])"
      ],
      "metadata": {
        "colab": {
          "base_uri": "https://localhost:8080/"
        },
        "id": "kSPTIc5AubN1",
        "outputId": "8e959dc2-ad61-434d-cd49-e228a4ceb705"
      },
      "execution_count": 176,
      "outputs": [
        {
          "output_type": "stream",
          "name": "stdout",
          "text": [
            "Epoch 1/20\n",
            "235/235 [==============================] - 5s 17ms/step - loss: 0.9368 - accuracy: 0.6217 - val_loss: 0.6399 - val_accuracy: 0.7546\n",
            "Epoch 2/20\n",
            "235/235 [==============================] - 4s 16ms/step - loss: 0.5509 - accuracy: 0.7983 - val_loss: 0.5406 - val_accuracy: 0.7963\n",
            "Epoch 3/20\n",
            "235/235 [==============================] - 5s 20ms/step - loss: 0.4495 - accuracy: 0.8349 - val_loss: 0.4393 - val_accuracy: 0.8341\n",
            "Epoch 4/20\n",
            "235/235 [==============================] - 4s 15ms/step - loss: 0.4054 - accuracy: 0.8514 - val_loss: 0.4089 - val_accuracy: 0.8512\n",
            "Epoch 5/20\n",
            "235/235 [==============================] - 4s 16ms/step - loss: 0.3794 - accuracy: 0.8608 - val_loss: 0.4074 - val_accuracy: 0.8504\n",
            "Epoch 6/20\n",
            "235/235 [==============================] - 5s 21ms/step - loss: 0.3703 - accuracy: 0.8640 - val_loss: 0.4023 - val_accuracy: 0.8544\n",
            "Epoch 7/20\n",
            "235/235 [==============================] - 4s 15ms/step - loss: 0.3518 - accuracy: 0.8704 - val_loss: 0.3944 - val_accuracy: 0.8585\n",
            "Epoch 8/20\n",
            "235/235 [==============================] - 4s 15ms/step - loss: 0.3458 - accuracy: 0.8730 - val_loss: 0.3901 - val_accuracy: 0.8619\n",
            "Epoch 9/20\n",
            "235/235 [==============================] - 5s 21ms/step - loss: 0.3281 - accuracy: 0.8793 - val_loss: 0.3905 - val_accuracy: 0.8615\n",
            "Epoch 10/20\n",
            "235/235 [==============================] - 4s 15ms/step - loss: 0.3213 - accuracy: 0.8814 - val_loss: 0.3668 - val_accuracy: 0.8666\n",
            "Epoch 11/20\n",
            "235/235 [==============================] - 4s 16ms/step - loss: 0.3097 - accuracy: 0.8848 - val_loss: 0.3991 - val_accuracy: 0.8586\n",
            "Epoch 12/20\n",
            "235/235 [==============================] - 4s 18ms/step - loss: 0.3086 - accuracy: 0.8852 - val_loss: 0.3836 - val_accuracy: 0.8621\n",
            "Epoch 12: early stopping\n"
          ]
        },
        {
          "output_type": "execute_result",
          "data": {
            "text/plain": [
              "<keras.callbacks.History at 0x7f6fd78a2ec0>"
            ]
          },
          "metadata": {},
          "execution_count": 176
        }
      ]
    },
    {
      "cell_type": "code",
      "source": [
        "# RMSprop\n",
        "model = Sequential(\n",
        "    [\n",
        "        Dense(128, input_shape=(len(x_train[0]),), activation=\"relu\"),\n",
        "        Dense(256, activation=\"relu\"),\n",
        "        Dense(10, activation=\"softmax\"),\n",
        "    ]\n",
        ")\n",
        "\n",
        "model.compile(\n",
        "    optimizer=RMSprop(learning_rate=learning_rate),\n",
        "    loss=\"categorical_crossentropy\",\n",
        "    metrics=[\"accuracy\"],\n",
        ")\n",
        "\n",
        "\n",
        "callback_early_stopping = EarlyStopping(\n",
        "    monitor=\"val_accuracy\",\n",
        "    patience=2,\n",
        "    verbose=1,\n",
        "    mode=\"max\",\n",
        ")\n",
        "\n",
        "y_train_enc = keras.utils.to_categorical(y_train, num_classes)\n",
        "y_test_enc = keras.utils.to_categorical(y_test, num_classes)\n",
        "y_train_enc, y_test_enc\n",
        "\n",
        "model.fit(x_train,\n",
        "          y_train_enc,\n",
        "          epochs=n_epochs,\n",
        "          batch_size=batch_size,\n",
        "          validation_data=(x_test, y_test_enc),\n",
        "          verbose=1,\n",
        "          callbacks=[callback_early_stopping])"
      ],
      "metadata": {
        "colab": {
          "base_uri": "https://localhost:8080/"
        },
        "id": "Ds2Gwp8ivPhV",
        "outputId": "c40eaa9f-daf8-48b0-a208-f0c908a3a70c"
      },
      "execution_count": 180,
      "outputs": [
        {
          "output_type": "stream",
          "name": "stdout",
          "text": [
            "Epoch 1/20\n",
            "235/235 [==============================] - 3s 12ms/step - loss: 1.3198 - accuracy: 0.4715 - val_loss: 0.9269 - val_accuracy: 0.6627\n",
            "Epoch 2/20\n",
            "235/235 [==============================] - 3s 13ms/step - loss: 0.7502 - accuracy: 0.7134 - val_loss: 0.7010 - val_accuracy: 0.7397\n",
            "Epoch 3/20\n",
            "235/235 [==============================] - 2s 9ms/step - loss: 0.6042 - accuracy: 0.7724 - val_loss: 0.6722 - val_accuracy: 0.7386\n",
            "Epoch 4/20\n",
            "235/235 [==============================] - 2s 9ms/step - loss: 0.5426 - accuracy: 0.7973 - val_loss: 0.5713 - val_accuracy: 0.7895\n",
            "Epoch 5/20\n",
            "235/235 [==============================] - 2s 10ms/step - loss: 0.4955 - accuracy: 0.8145 - val_loss: 0.5450 - val_accuracy: 0.7940\n",
            "Epoch 6/20\n",
            "235/235 [==============================] - 4s 16ms/step - loss: 0.4650 - accuracy: 0.8253 - val_loss: 0.6472 - val_accuracy: 0.7546\n",
            "Epoch 7/20\n",
            "235/235 [==============================] - 4s 17ms/step - loss: 0.4407 - accuracy: 0.8365 - val_loss: 0.4831 - val_accuracy: 0.8204\n",
            "Epoch 8/20\n",
            "235/235 [==============================] - 3s 12ms/step - loss: 0.4205 - accuracy: 0.8430 - val_loss: 0.5469 - val_accuracy: 0.7976\n",
            "Epoch 9/20\n",
            "235/235 [==============================] - 3s 12ms/step - loss: 0.4069 - accuracy: 0.8496 - val_loss: 0.4623 - val_accuracy: 0.8262\n",
            "Epoch 10/20\n",
            "235/235 [==============================] - 3s 13ms/step - loss: 0.3935 - accuracy: 0.8540 - val_loss: 0.4775 - val_accuracy: 0.8225\n",
            "Epoch 11/20\n",
            "235/235 [==============================] - 4s 15ms/step - loss: 0.3810 - accuracy: 0.8587 - val_loss: 0.4209 - val_accuracy: 0.8457\n",
            "Epoch 12/20\n",
            "235/235 [==============================] - 3s 15ms/step - loss: 0.3701 - accuracy: 0.8612 - val_loss: 0.4372 - val_accuracy: 0.8384\n",
            "Epoch 13/20\n",
            "235/235 [==============================] - 3s 14ms/step - loss: 0.3619 - accuracy: 0.8640 - val_loss: 0.4508 - val_accuracy: 0.8213\n",
            "Epoch 13: early stopping\n"
          ]
        },
        {
          "output_type": "execute_result",
          "data": {
            "text/plain": [
              "<keras.callbacks.History at 0x7f70100130a0>"
            ]
          },
          "metadata": {},
          "execution_count": 180
        }
      ]
    },
    {
      "cell_type": "code",
      "source": [
        "model = Sequential(\n",
        "    [\n",
        "        Dense(n_hidden_1, input_shape=(len(x_train[0]),), activation=\"relu\"),\n",
        "        Dense(n_hidden_2, activation=\"relu\"),\n",
        "        Dense(n_hidden_2, activation=\"relu\"),\n",
        "        Dense(10, activation=\"softmax\"),\n",
        "    ]\n",
        ")\n",
        "\n",
        "model.compile(\n",
        "    optimizer=Adam(learning_rate=learning_rate),\n",
        "    loss=\"categorical_crossentropy\",\n",
        "    metrics=[\"accuracy\"],\n",
        ")\n",
        "\n",
        "callback_early_stopping = EarlyStopping(\n",
        "    monitor=\"val_accuracy\",\n",
        "    patience=2,\n",
        "    verbose=1,\n",
        "    mode=\"max\",\n",
        ")\n",
        "\n",
        "y_train_enc = keras.utils.to_categorical(y_train, num_classes)\n",
        "y_test_enc = keras.utils.to_categorical(y_test, num_classes)\n",
        "\n",
        "model.fit(x_train,\n",
        "          y_train_enc,\n",
        "          epochs=n_epochs,\n",
        "          batch_size=batch_size,\n",
        "          validation_data=(x_test, y_test_enc),\n",
        "          verbose=1,\n",
        "          callbacks=[callback_early_stopping])"
      ],
      "metadata": {
        "colab": {
          "base_uri": "https://localhost:8080/"
        },
        "id": "j5b77Ra3wFE5",
        "outputId": "19721521-1582-4d91-8ace-c4716293c79f"
      },
      "execution_count": 192,
      "outputs": [
        {
          "output_type": "stream",
          "name": "stdout",
          "text": [
            "Epoch 1/20\n",
            "235/235 [==============================] - 5s 15ms/step - loss: 0.8023 - accuracy: 0.6930 - val_loss: 0.5479 - val_accuracy: 0.8014\n",
            "Epoch 2/20\n",
            "235/235 [==============================] - 4s 17ms/step - loss: 0.4908 - accuracy: 0.8216 - val_loss: 0.5458 - val_accuracy: 0.8014\n",
            "Epoch 3/20\n",
            "235/235 [==============================] - 4s 15ms/step - loss: 0.4245 - accuracy: 0.8450 - val_loss: 0.4400 - val_accuracy: 0.8370\n",
            "Epoch 4/20\n",
            "235/235 [==============================] - 4s 19ms/step - loss: 0.3840 - accuracy: 0.8589 - val_loss: 0.4452 - val_accuracy: 0.8346\n",
            "Epoch 5/20\n",
            "235/235 [==============================] - 5s 23ms/step - loss: 0.3643 - accuracy: 0.8642 - val_loss: 0.4052 - val_accuracy: 0.8526\n",
            "Epoch 6/20\n",
            "235/235 [==============================] - 3s 12ms/step - loss: 0.3518 - accuracy: 0.8688 - val_loss: 0.3810 - val_accuracy: 0.8613\n",
            "Epoch 7/20\n",
            "235/235 [==============================] - 3s 12ms/step - loss: 0.3375 - accuracy: 0.8747 - val_loss: 0.3898 - val_accuracy: 0.8576\n",
            "Epoch 8/20\n",
            "235/235 [==============================] - 3s 12ms/step - loss: 0.3262 - accuracy: 0.8786 - val_loss: 0.3837 - val_accuracy: 0.8617\n",
            "Epoch 9/20\n",
            "235/235 [==============================] - 4s 17ms/step - loss: 0.3174 - accuracy: 0.8825 - val_loss: 0.3766 - val_accuracy: 0.8636\n",
            "Epoch 10/20\n",
            "235/235 [==============================] - 3s 12ms/step - loss: 0.3087 - accuracy: 0.8845 - val_loss: 0.3605 - val_accuracy: 0.8681\n",
            "Epoch 11/20\n",
            "235/235 [==============================] - 3s 13ms/step - loss: 0.3012 - accuracy: 0.8874 - val_loss: 0.3750 - val_accuracy: 0.8639\n",
            "Epoch 12/20\n",
            "235/235 [==============================] - 3s 12ms/step - loss: 0.2948 - accuracy: 0.8895 - val_loss: 0.3819 - val_accuracy: 0.8628\n",
            "Epoch 12: early stopping\n"
          ]
        },
        {
          "output_type": "execute_result",
          "data": {
            "text/plain": [
              "<keras.callbacks.History at 0x7f6fda438a90>"
            ]
          },
          "metadata": {},
          "execution_count": 192
        }
      ]
    },
    {
      "cell_type": "code",
      "source": [
        "# batch_size +\n",
        "model = Sequential(\n",
        "    [\n",
        "        Dense(n_hidden_1, input_shape=(len(x_train[0]),), activation=\"relu\"),\n",
        "        Dense(n_hidden_2, activation=\"relu\"),\n",
        "        Dense(n_hidden_2, activation=\"relu\"),\n",
        "        Dense(10, activation=\"softmax\"),\n",
        "    ]\n",
        ")\n",
        "\n",
        "model.compile(\n",
        "    optimizer=Adam(learning_rate=learning_rate),\n",
        "    loss=\"categorical_crossentropy\",\n",
        "    metrics=[\"accuracy\"],\n",
        ")\n",
        "\n",
        "callback_early_stopping = EarlyStopping(\n",
        "    monitor=\"val_accuracy\",\n",
        "    patience=2,\n",
        "    verbose=1,\n",
        "    mode=\"max\",\n",
        ")\n",
        "\n",
        "y_train_enc = keras.utils.to_categorical(y_train, num_classes)\n",
        "y_test_enc = keras.utils.to_categorical(y_test, num_classes)\n",
        "\n",
        "model.fit(x_train,\n",
        "          y_train_enc,\n",
        "          epochs=n_epochs,\n",
        "          batch_size=batch_size2,\n",
        "          validation_data=(x_test, y_test_enc),\n",
        "          verbose=1,\n",
        "          callbacks=[callback_early_stopping])"
      ],
      "metadata": {
        "colab": {
          "base_uri": "https://localhost:8080/"
        },
        "id": "8RcHA6zwy2I8",
        "outputId": "1cc6dbf8-c8a6-431c-d5bc-3a3b0065ff6d"
      },
      "execution_count": 193,
      "outputs": [
        {
          "output_type": "stream",
          "name": "stdout",
          "text": [
            "Epoch 1/20\n",
            "118/118 [==============================] - 3s 21ms/step - loss: 0.9583 - accuracy: 0.6310 - val_loss: 0.6747 - val_accuracy: 0.7560\n",
            "Epoch 2/20\n",
            "118/118 [==============================] - 2s 19ms/step - loss: 0.5614 - accuracy: 0.7933 - val_loss: 0.5335 - val_accuracy: 0.8074\n",
            "Epoch 3/20\n",
            "118/118 [==============================] - 3s 21ms/step - loss: 0.4679 - accuracy: 0.8301 - val_loss: 0.4828 - val_accuracy: 0.8284\n",
            "Epoch 4/20\n",
            "118/118 [==============================] - 3s 29ms/step - loss: 0.4182 - accuracy: 0.8472 - val_loss: 0.4379 - val_accuracy: 0.8389\n",
            "Epoch 5/20\n",
            "118/118 [==============================] - 2s 20ms/step - loss: 0.3891 - accuracy: 0.8574 - val_loss: 0.4315 - val_accuracy: 0.8446\n",
            "Epoch 6/20\n",
            "118/118 [==============================] - 2s 19ms/step - loss: 0.3690 - accuracy: 0.8640 - val_loss: 0.4263 - val_accuracy: 0.8444\n",
            "Epoch 7/20\n",
            "118/118 [==============================] - 2s 19ms/step - loss: 0.3636 - accuracy: 0.8655 - val_loss: 0.4002 - val_accuracy: 0.8573\n",
            "Epoch 8/20\n",
            "118/118 [==============================] - 2s 19ms/step - loss: 0.3390 - accuracy: 0.8755 - val_loss: 0.4007 - val_accuracy: 0.8489\n",
            "Epoch 9/20\n",
            "118/118 [==============================] - 4s 30ms/step - loss: 0.3360 - accuracy: 0.8758 - val_loss: 0.4004 - val_accuracy: 0.8529\n",
            "Epoch 9: early stopping\n"
          ]
        },
        {
          "output_type": "execute_result",
          "data": {
            "text/plain": [
              "<keras.callbacks.History at 0x7f6fda14ee00>"
            ]
          },
          "metadata": {},
          "execution_count": 193
        }
      ]
    },
    {
      "cell_type": "code",
      "source": [
        "# batch_size -\n",
        "model = Sequential(\n",
        "    [\n",
        "        Dense(n_hidden_1, input_shape=(len(x_train[0]),), activation=\"relu\"),\n",
        "        Dense(n_hidden_2, activation=\"relu\"),\n",
        "        Dense(n_hidden_2, activation=\"relu\"),\n",
        "        Dense(10, activation=\"softmax\"),\n",
        "    ]\n",
        ")\n",
        "\n",
        "model.compile(\n",
        "    optimizer=Adam(learning_rate=learning_rate),\n",
        "    loss=\"categorical_crossentropy\",\n",
        "    metrics=[\"accuracy\"],\n",
        ")\n",
        "\n",
        "callback_early_stopping = EarlyStopping(\n",
        "    monitor=\"val_accuracy\",\n",
        "    patience=2,\n",
        "    verbose=1,\n",
        "    mode=\"max\",\n",
        ")\n",
        "\n",
        "y_train_enc = keras.utils.to_categorical(y_train, num_classes)\n",
        "y_test_enc = keras.utils.to_categorical(y_test, num_classes)\n",
        "\n",
        "model.fit(x_train,\n",
        "          y_train_enc,\n",
        "          epochs=n_epochs,\n",
        "          batch_size=batch_size3,\n",
        "          validation_data=(x_test, y_test_enc),\n",
        "          verbose=1,\n",
        "          callbacks=[callback_early_stopping])"
      ],
      "metadata": {
        "colab": {
          "base_uri": "https://localhost:8080/"
        },
        "id": "5l0aEhc2zdgY",
        "outputId": "c5645c2e-a747-47f4-e038-05639df3e401"
      },
      "execution_count": 195,
      "outputs": [
        {
          "output_type": "stream",
          "name": "stdout",
          "text": [
            "Epoch 1/20\n",
            "469/469 [==============================] - 6s 12ms/step - loss: 0.7282 - accuracy: 0.7209 - val_loss: 0.5108 - val_accuracy: 0.8145\n",
            "Epoch 2/20\n",
            "469/469 [==============================] - 5s 10ms/step - loss: 0.4531 - accuracy: 0.8341 - val_loss: 0.4313 - val_accuracy: 0.8397\n",
            "Epoch 3/20\n",
            "469/469 [==============================] - 5s 12ms/step - loss: 0.4040 - accuracy: 0.8508 - val_loss: 0.4283 - val_accuracy: 0.8454\n",
            "Epoch 4/20\n",
            "469/469 [==============================] - 5s 12ms/step - loss: 0.3747 - accuracy: 0.8623 - val_loss: 0.4847 - val_accuracy: 0.8178\n",
            "Epoch 5/20\n",
            "469/469 [==============================] - 4s 9ms/step - loss: 0.3557 - accuracy: 0.8686 - val_loss: 0.4021 - val_accuracy: 0.8517\n",
            "Epoch 6/20\n",
            "469/469 [==============================] - 5s 10ms/step - loss: 0.3449 - accuracy: 0.8726 - val_loss: 0.3856 - val_accuracy: 0.8594\n",
            "Epoch 7/20\n",
            "469/469 [==============================] - 5s 11ms/step - loss: 0.3283 - accuracy: 0.8781 - val_loss: 0.3693 - val_accuracy: 0.8687\n",
            "Epoch 8/20\n",
            "469/469 [==============================] - 4s 9ms/step - loss: 0.3171 - accuracy: 0.8821 - val_loss: 0.4014 - val_accuracy: 0.8516\n",
            "Epoch 9/20\n",
            "469/469 [==============================] - 6s 12ms/step - loss: 0.3133 - accuracy: 0.8834 - val_loss: 0.3555 - val_accuracy: 0.8716\n",
            "Epoch 10/20\n",
            "469/469 [==============================] - 4s 9ms/step - loss: 0.3037 - accuracy: 0.8870 - val_loss: 0.3629 - val_accuracy: 0.8666\n",
            "Epoch 11/20\n",
            "469/469 [==============================] - 4s 9ms/step - loss: 0.2971 - accuracy: 0.8883 - val_loss: 0.3503 - val_accuracy: 0.8774\n",
            "Epoch 12/20\n",
            "469/469 [==============================] - 5s 12ms/step - loss: 0.2865 - accuracy: 0.8914 - val_loss: 0.3871 - val_accuracy: 0.8664\n",
            "Epoch 13/20\n",
            "469/469 [==============================] - 5s 10ms/step - loss: 0.2803 - accuracy: 0.8951 - val_loss: 0.3636 - val_accuracy: 0.8720\n",
            "Epoch 13: early stopping\n"
          ]
        },
        {
          "output_type": "execute_result",
          "data": {
            "text/plain": [
              "<keras.callbacks.History at 0x7f6fd3032890>"
            ]
          },
          "metadata": {},
          "execution_count": 195
        }
      ]
    },
    {
      "cell_type": "code",
      "source": [
        "history = model.history.history\n",
        "loss_values = history['loss']\n",
        "val_loss_values = history['val_loss']\n",
        "\n",
        "epochs = range(1, len(history['accuracy']) + 1)\n",
        "\n",
        "plt.figure(figsize=(7, 7))\n",
        "plt.plot(epochs, loss_values, label='Training loss')\n",
        "plt.plot(epochs, val_loss_values, label='Validation loss')\n",
        "plt.title('Training and validation loss')\n",
        "plt.xlabel('Epochs')\n",
        "plt.ylabel('Loss')\n",
        "plt.legend()\n",
        "plt.show()\n",
        "\n",
        "\n",
        "plt.clf()\n",
        "plt.figure(figsize=(7, 7))\n",
        "val_acc_values = history['val_accuracy']\n",
        "plt.plot(epochs, history['accuracy'], label='Training accuracy')\n",
        "plt.plot(epochs, history['val_accuracy'], label='Validation accuracy')\n",
        "plt.title('Training and validation accuracy')\n",
        "plt.xlabel('Epochs')\n",
        "plt.ylabel('accuracy')\n",
        "plt.legend()"
      ],
      "metadata": {
        "colab": {
          "base_uri": "https://localhost:8080/",
          "height": 1000
        },
        "id": "f41n2cxkwgsO",
        "outputId": "d0c44ccd-ddc2-4c89-9ca0-d4b3e9672cfb"
      },
      "execution_count": 196,
      "outputs": [
        {
          "output_type": "display_data",
          "data": {
            "text/plain": [
              "<Figure size 700x700 with 1 Axes>"
            ],
            "image/png": "[encoded data removed]"
          },
          "metadata": {}
        },
        {
          "output_type": "execute_result",
          "data": {
            "text/plain": [
              "<matplotlib.legend.Legend at 0x7f6fd5c16dd0>"
            ]
          },
          "metadata": {},
          "execution_count": 196
        },
        {
          "output_type": "display_data",
          "data": {
            "text/plain": [
              "<Figure size 640x480 with 0 Axes>"
            ]
          },
          "metadata": {}
        },
        {
          "output_type": "display_data",
          "data": {
            "text/plain": [
              "<Figure size 700x700 with 1 Axes>"
            ],
            "image/png": "[encoded data removed]"
          },
          "metadata": {}
        }
      ]
    },
    {
      "cell_type": "code",
      "source": [
        "Висновки:\n",
        "найкращіх результатів вдалося добитися з оптимізатором Adam. Додавання шарів чи змінення їх параметрів або не давало суттєвих позитивних результатів або і взагалі приводило к оверфіту. При зменшенні batch_size модель показала трохи кращі результати.\n",
        "Кількість епох не впливала на результати, оскільки навчання преривалося раніше завдяки early_stopping"
      ],
      "metadata": {
        "id": "_pBVbFeAwjNR"
      },
      "execution_count": null,
      "outputs": []
    }
  ]
}