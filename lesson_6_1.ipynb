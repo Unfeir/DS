{
  "nbformat": 4,
  "nbformat_minor": 0,
  "metadata": {
    "colab": {
      "provenance": [],
      "authorship_tag": "ABX9TyN3W/sBa9Os2wT8vMnkZbUk",
      "include_colab_link": true
    },
    "kernelspec": {
      "name": "python3",
      "display_name": "Python 3"
    },
    "language_info": {
      "name": "python"
    }
  },
  "cells": [
    {
      "cell_type": "markdown",
      "metadata": {
        "id": "view-in-github",
        "colab_type": "text"
      },
      "source": [
        "<a href=\"https://colab.research.google.com/github/Unfeir/DS/blob/main/lesson_6_1.ipynb\" target=\"_parent\"><img src=\"https://colab.research.google.com/assets/colab-badge.svg\" alt=\"Open In Colab\"/></a>"
      ]
    },
    {
      "cell_type": "code",
      "execution_count": null,
      "metadata": {
        "id": "c-NFoUnsauqn"
      },
      "outputs": [],
      "source": [
        "import numpy as np\n",
        "import pandas as pd\n",
        "import matplotlib.pyplot as plt\n",
        "from sklearn import datasets"
      ]
    },
    {
      "cell_type": "code",
      "source": [
        "def compute_prob(x, mu, sigma):\n",
        "    return np.prod(1. / (np.sqrt(2*np.pi) * sigma) * np.exp(-(x - mu)**2 / (2 * sigma**2)), axis=1)\n",
        "\n",
        "X, y = datasets.make_blobs(n_samples=1000, random_state=8, centers=[(4, 3)])\n",
        "X[:, 0] = X[:, 0] * 2.54\n",
        "X[0]\n",
        "\n",
        "mu = X.mean(axis=0)\n",
        "sigma = X.std(axis=0)\n",
        "\n",
        "y[compute_prob(X, mu, sigma) <= 0.005] = 1"
      ],
      "metadata": {
        "id": "D64AR2LkcjIS"
      },
      "execution_count": null,
      "outputs": []
    },
    {
      "cell_type": "code",
      "source": [
        "X.shape, y.shape"
      ],
      "metadata": {
        "id": "WLCENvQNckf8"
      },
      "execution_count": null,
      "outputs": []
    },
    {
      "cell_type": "code",
      "source": [
        "plt.scatter(X[:, 0], X[:, 1], c=y)"
      ],
      "metadata": {
        "id": "h5B8h338cl_Y"
      },
      "execution_count": null,
      "outputs": []
    },
    {
      "cell_type": "code",
      "source": [
        "mu, sigma = X.mean(axis=0), X.std(axis=0)"
      ],
      "metadata": {
        "id": "gPrNYMSVc0U2"
      },
      "execution_count": null,
      "outputs": []
    },
    {
      "cell_type": "code",
      "source": [
        "mu, sigma"
      ],
      "metadata": {
        "id": "C3y98DxVc1Rw"
      },
      "execution_count": null,
      "outputs": []
    },
    {
      "cell_type": "code",
      "source": [
        "plt.figure(figsize=(9, 3))\n",
        "plt.scatter(X[:, 0], X[:, 1], c=y)\n",
        "\n",
        "t = np.linspace(0, 2 * np.pi, 100)\n",
        "plt.plot(mu[0] + sigma[0] * np.cos(t), mu[1] + sigma[1] * np.sin(t), color=\"green\")\n",
        "plt.plot(mu[0] + 2 * sigma[0] * np.cos(t), mu[1] + 2 * sigma[1] * np.sin(t), color=\"green\")\n",
        "plt.plot(mu[0] + 3 * sigma[0] * np.cos(t), mu[1] + 3 * sigma[1] * np.sin(t), color=\"green\")"
      ],
      "metadata": {
        "id": "GKS1nan5c274"
      },
      "execution_count": null,
      "outputs": []
    },
    {
      "cell_type": "code",
      "source": [
        "def f(x, mu, sigma):\n",
        "    return np.prod(1 / ((np.sqrt(2 * np.pi)) * sigma) * np.exp(-(x - mu) ** 2 / (2 * sigma ** 2)), axis=1)"
      ],
      "metadata": {
        "id": "gUGu0pmOc5PM"
      },
      "execution_count": null,
      "outputs": []
    },
    {
      "cell_type": "code",
      "source": [
        "plt.figure(figsize=(5, 5))\n",
        "plt.scatter(X[:, 1], f(X[:, 1].reshape(-1, 1), mu[1], sigma[1]), c=y)"
      ],
      "metadata": {
        "id": "c1KXo8SYc7EA"
      },
      "execution_count": null,
      "outputs": []
    },
    {
      "cell_type": "code",
      "source": [
        "y_pred_prob = f(X, mu, sigma)"
      ],
      "metadata": {
        "id": "gRGmeOrZc9Tz"
      },
      "execution_count": null,
      "outputs": []
    },
    {
      "cell_type": "code",
      "source": [
        "from sklearn.metrics import f1_score\n",
        "from sklearn.model_selection import train_test_split"
      ],
      "metadata": {
        "id": "x4UCaZwgc9w_"
      },
      "execution_count": null,
      "outputs": []
    },
    {
      "cell_type": "code",
      "source": [
        "f1_score(y, (y_pred_prob < y_pred_prob[y == 0].min()).astype(int))"
      ],
      "metadata": {
        "id": "sn82ibndc978"
      },
      "execution_count": null,
      "outputs": []
    },
    {
      "cell_type": "code",
      "source": [
        "X_0 = X[y == 0]\n",
        "y_0 = y[y == 0]\n",
        "X_1 = X[y == 1]\n",
        "y_1 = y[y == 1]\n",
        "\n",
        "X_0_train, X_0_valid, y_0_train, y_0_valid = train_test_split(X_0, y_0, train_size=0.6)\n",
        "X_1_valid, X_1_test, y_1_valid, y_1_test = train_test_split(X_1, y_1, train_size=0.5)\n",
        "X_0_valid, X_0_test, y_0_valid, y_0_test = train_test_split(X_0_valid, y_0_valid, train_size=0.5)"
      ],
      "metadata": {
        "id": "dbsKPVNNc-FB"
      },
      "execution_count": null,
      "outputs": []
    },
    {
      "cell_type": "code",
      "source": [
        "X_train, y_train = X_0_train, y_0_train\n",
        "X_valid, y_valid = np.concatenate([X_0_valid, X_1_valid]), np.concatenate([y_0_valid, y_1_valid])\n",
        "X_test, y_test = np.concatenate([X_0_test, X_1_test]), np.concatenate([y_0_test, y_1_test])"
      ],
      "metadata": {
        "id": "QhqkvhEvc-Nw"
      },
      "execution_count": null,
      "outputs": []
    },
    {
      "cell_type": "code",
      "source": [
        "mu, sigma = X_train.mean(axis=0), X_train.std(axis=0)"
      ],
      "metadata": {
        "id": "Jn8DGvidc-U9"
      },
      "execution_count": null,
      "outputs": []
    },
    {
      "cell_type": "code",
      "source": [
        "mu, sigma"
      ],
      "metadata": {
        "id": "ss3-NUK3dIB9"
      },
      "execution_count": null,
      "outputs": []
    },
    {
      "cell_type": "code",
      "source": [
        "y_valid_prob = f(X_valid, mu, sigma)"
      ],
      "metadata": {
        "id": "R3pebv6udJIP"
      },
      "execution_count": null,
      "outputs": []
    },
    {
      "cell_type": "code",
      "source": [
        "scores = []\n",
        "for epsilon in np.linspace(0, 0.01, 20):\n",
        "    score = f1_score(y_valid, y_valid_prob < epsilon)\n",
        "    scores.append(score)\n",
        "    print(f\"{epsilon=:.5f} {score=:.3f}\")"
      ],
      "metadata": {
        "id": "VBR_boE-dK5-"
      },
      "execution_count": null,
      "outputs": []
    },
    {
      "cell_type": "code",
      "source": [
        "plt.plot(np.linspace(0, 0.01, 20), scores)"
      ],
      "metadata": {
        "id": "D3Ab7hZOdPxc"
      },
      "execution_count": null,
      "outputs": []
    },
    {
      "cell_type": "code",
      "source": [
        "epsilon = 0.00368"
      ],
      "metadata": {
        "id": "ixKlHak9dRSw"
      },
      "execution_count": null,
      "outputs": []
    },
    {
      "cell_type": "code",
      "source": [
        "f1_score(y_test, f(X_test, mu, sigma) < epsilon)"
      ],
      "metadata": {
        "id": "7DnrR7KZdSSx"
      },
      "execution_count": null,
      "outputs": []
    }
  ]
}