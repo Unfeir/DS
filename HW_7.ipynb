{
  "nbformat": 4,
  "nbformat_minor": 0,
  "metadata": {
    "colab": {
      "provenance": [],
      "mount_file_id": "1qpPAAT6vAePaMkyHAnNQM5pORo0VX38L",
      "authorship_tag": "ABX9TyNkHd5mt+lOTwbtUJLj44qx",
      "include_colab_link": true
    },
    "kernelspec": {
      "name": "python3",
      "display_name": "Python 3"
    },
    "language_info": {
      "name": "python"
    }
  },
  "cells": [
    {
      "cell_type": "markdown",
      "metadata": {
        "id": "view-in-github",
        "colab_type": "text"
      },
      "source": [
        "<a href=\"https://colab.research.google.com/github/Unfeir/DS/blob/main/HW_7.ipynb\" target=\"_parent\"><img src=\"https://colab.research.google.com/assets/colab-badge.svg\" alt=\"Open In Colab\"/></a>"
      ]
    },
    {
      "cell_type": "code",
      "source": [
        "!pip install scikit-surprise\n"
      ],
      "metadata": {
        "colab": {
          "base_uri": "https://localhost:8080/"
        },
        "id": "Ef7FiLnqFFx0",
        "outputId": "685976e2-7659-4086-b200-f4fa57409359"
      },
      "execution_count": 1,
      "outputs": [
        {
          "output_type": "stream",
          "name": "stdout",
          "text": [
            "Collecting scikit-surprise\n",
            "  Downloading scikit-surprise-1.1.3.tar.gz (771 kB)\n",
            "\u001b[?25l     \u001b[90m━━━━━━━━━━━━━━━━━━━━━━━━━━━━━━━━━━━━━━━━\u001b[0m \u001b[32m0.0/772.0 kB\u001b[0m \u001b[31m?\u001b[0m eta \u001b[36m-:--:--\u001b[0m\r\u001b[2K     \u001b[91m━━━━━━━━━━━━━━━━━━━━━━━━\u001b[0m\u001b[91m╸\u001b[0m\u001b[90m━━━━━━━━━━━━━\u001b[0m \u001b[32m501.8/772.0 kB\u001b[0m \u001b[31m15.2 MB/s\u001b[0m eta \u001b[36m0:00:01\u001b[0m\r\u001b[2K     \u001b[90m━━━━━━━━━━━━━━━━━━━━━━━━━━━━━━━━━━━━━━\u001b[0m \u001b[32m772.0/772.0 kB\u001b[0m \u001b[31m16.5 MB/s\u001b[0m eta \u001b[36m0:00:00\u001b[0m\n",
            "\u001b[?25h  Preparing metadata (setup.py) ... \u001b[?25l\u001b[?25hdone\n",
            "Requirement already satisfied: joblib>=1.0.0 in /usr/local/lib/python3.10/dist-packages (from scikit-surprise) (1.3.1)\n",
            "Requirement already satisfied: numpy>=1.17.3 in /usr/local/lib/python3.10/dist-packages (from scikit-surprise) (1.22.4)\n",
            "Requirement already satisfied: scipy>=1.3.2 in /usr/local/lib/python3.10/dist-packages (from scikit-surprise) (1.10.1)\n",
            "Building wheels for collected packages: scikit-surprise\n",
            "  Building wheel for scikit-surprise (setup.py) ... \u001b[?25l\u001b[?25hdone\n",
            "  Created wheel for scikit-surprise: filename=scikit_surprise-1.1.3-cp310-cp310-linux_x86_64.whl size=2811631 sha256=4b2d0c599f2a5fc27c92637db5a1e92db76e091817b007b3eb3e7a08b517ea5c\n",
            "  Stored in directory: /root/.cache/pip/wheels/a5/ca/a8/4e28def53797fdc4363ca4af740db15a9c2f1595ebc51fb445\n",
            "Successfully built scikit-surprise\n",
            "Installing collected packages: scikit-surprise\n",
            "Successfully installed scikit-surprise-1.1.3\n"
          ]
        }
      ]
    },
    {
      "cell_type": "code",
      "execution_count": 2,
      "metadata": {
        "id": "8w_jbnQQEmfU"
      },
      "outputs": [],
      "source": [
        "import pandas as pd\n",
        "import numpy as np\n",
        "from surprise import Dataset, SVD, SVDpp, NMF, Reader\n",
        "from surprise.model_selection import cross_validate\n",
        "from collections import defaultdict\n",
        "from surprise.model_selection import train_test_split"
      ]
    },
    {
      "cell_type": "code",
      "source": [
        "# links = pd.read_csv('/content/drive/MyDrive/Data sets/ml-25m/links.csv')\n",
        "# movies = pd.read_csv('/content/drive/MyDrive/Data sets/ml-25m/movies.csv')\n",
        "# ratings = pd.read_csv('/content/drive/MyDrive/Data sets/ml-25m/ratings.csv')\n",
        "# tags = pd.read_csv('/content/drive/MyDrive/Data sets/ml-25m/tags.csv')\n",
        "# ratings, movies, ratings, tags"
      ],
      "metadata": {
        "id": "uALssyqiP1m3"
      },
      "execution_count": null,
      "outputs": []
    },
    {
      "cell_type": "code",
      "source": [
        "data = Dataset.load_builtin(\"ml-100k\")\n"
      ],
      "metadata": {
        "colab": {
          "base_uri": "https://localhost:8080/"
        },
        "id": "wrPKZKj3CfWN",
        "outputId": "fc17774f-98c1-4ae9-8345-a42d69d390f5"
      },
      "execution_count": 3,
      "outputs": [
        {
          "output_type": "stream",
          "name": "stdout",
          "text": [
            "Dataset ml-100k could not be found. Do you want to download it? [Y/n] Y\n",
            "Trying to download dataset from https://files.grouplens.org/datasets/movielens/ml-100k.zip...\n",
            "Done! Dataset ml-100k has been saved to /root/.surprise_data/ml-100k\n"
          ]
        },
        {
          "output_type": "execute_result",
          "data": {
            "text/plain": [
              "<surprise.dataset.DatasetAutoFolds at 0x7ac64d39d030>"
            ]
          },
          "metadata": {},
          "execution_count": 3
        }
      ]
    },
    {
      "cell_type": "code",
      "source": [
        "raw_data = data.raw_ratings\n",
        "\n",
        "\n",
        "for i in range(5):\n",
        "    print(raw_data[i])"
      ],
      "metadata": {
        "colab": {
          "base_uri": "https://localhost:8080/"
        },
        "id": "U5gPV5QvCnhy",
        "outputId": "9da6789b-2a05-4d9d-935e-b592ce8bdfa4"
      },
      "execution_count": 19,
      "outputs": [
        {
          "output_type": "stream",
          "name": "stdout",
          "text": [
            "('196', '242', 3.0, '881250949')\n",
            "('186', '302', 3.0, '891717742')\n",
            "('22', '377', 1.0, '878887116')\n",
            "('244', '51', 2.0, '880606923')\n",
            "('166', '346', 1.0, '886397596')\n"
          ]
        }
      ]
    },
    {
      "cell_type": "code",
      "source": [
        "algos = [SVD(),  NMF(), SVDpp()]\n",
        "for algo in algos:\n",
        "    results = cross_validate(algo, data, measures=['RMSE', 'MAE'], cv=5, verbose=True)\n",
        "    print(f\"Algorithm: {algo.__class__.__name__}\")\n",
        "    print(\"RMSE:\", results['test_rmse'].mean())\n",
        "    print(\"MAE:\", results['test_mae'].mean())"
      ],
      "metadata": {
        "colab": {
          "base_uri": "https://localhost:8080/"
        },
        "id": "RM23184OZNz1",
        "outputId": "4bcd0c7a-c981-4bad-e516-9c8cdc11a5db"
      },
      "execution_count": 6,
      "outputs": [
        {
          "output_type": "stream",
          "name": "stdout",
          "text": [
            "Evaluating RMSE, MAE of algorithm SVD on 5 split(s).\n",
            "\n",
            "                  Fold 1  Fold 2  Fold 3  Fold 4  Fold 5  Mean    Std     \n",
            "RMSE (testset)    0.9374  0.9366  0.9306  0.9472  0.9310  0.9365  0.0060  \n",
            "MAE (testset)     0.7400  0.7406  0.7338  0.7475  0.7313  0.7386  0.0057  \n",
            "Fit time          0.99    0.97    0.98    0.97    0.96    0.97    0.01    \n",
            "Test time         0.13    0.10    0.16    0.09    0.16    0.13    0.03    \n",
            "Algorithm: SVD\n",
            "RMSE: 0.9365473020225391\n",
            "MAE: 0.738643689510909\n",
            "Evaluating RMSE, MAE of algorithm NMF on 5 split(s).\n",
            "\n",
            "                  Fold 1  Fold 2  Fold 3  Fold 4  Fold 5  Mean    Std     \n",
            "RMSE (testset)    0.9612  0.9671  0.9629  0.9660  0.9632  0.9641  0.0021  \n",
            "MAE (testset)     0.7597  0.7583  0.7530  0.7589  0.7587  0.7577  0.0024  \n",
            "Fit time          1.73    2.12    1.73    1.62    1.66    1.77    0.18    \n",
            "Test time         0.14    0.16    0.09    0.16    0.08    0.13    0.04    \n",
            "Algorithm: NMF\n",
            "RMSE: 0.9640832071693112\n",
            "MAE: 0.7577122721334051\n",
            "Evaluating RMSE, MAE of algorithm SVDpp on 5 split(s).\n",
            "\n",
            "                  Fold 1  Fold 2  Fold 3  Fold 4  Fold 5  Mean    Std     \n",
            "RMSE (testset)    0.9194  0.9207  0.9183  0.9185  0.9248  0.9203  0.0024  \n",
            "MAE (testset)     0.7189  0.7244  0.7221  0.7223  0.7244  0.7224  0.0020  \n",
            "Fit time          25.85   25.84   25.82   25.43   25.65   25.72   0.16    \n",
            "Test time         3.77    4.22    3.79    3.87    4.18    3.97    0.19    \n",
            "Algorithm: SVDpp\n",
            "RMSE: 0.920346363766906\n",
            "MAE: 0.722402997234542\n"
          ]
        }
      ]
    },
    {
      "cell_type": "code",
      "source": [
        "param_grid = {'n_factors': [50, 100, 150],\n",
        "              'n_epochs': [20, 30, 40],\n",
        "              'lr_all': [0.005, 0.01, 0.02],\n",
        "              'reg_all': [0.02, 0.1, 0.4]}\n",
        "\n",
        "for i in range(3):\n",
        "  model = SVD(n_factors=param_grid['n_factors'][i], n_epochs=param_grid['n_epochs'][i], lr_all=param_grid['lr_all'][i], reg_all=param_grid['reg_all'][i])\n",
        "  results = cross_validate(model, data, measures=['RMSE', 'MAE'], cv=5, verbose=False)\n",
        "  print(f\"SVD variants waz: n_factors={param_grid['n_factors'][i]} | n_epochs={param_grid['n_epochs'][i]} | lr_all={param_grid['lr_all'][i]} | reg_all={param_grid['reg_all'][i]}\")\n",
        "  print(\"RMSE:\", results['test_rmse'].mean())\n",
        "  print(\"MAE:\", results['test_mae'].mean())\n",
        "\n",
        "\n",
        "\n"
      ],
      "metadata": {
        "colab": {
          "base_uri": "https://localhost:8080/"
        },
        "id": "uWPIJfN0Ggy2",
        "outputId": "b785760b-f466-480a-9cc1-e3c38e021920"
      },
      "execution_count": 37,
      "outputs": [
        {
          "output_type": "stream",
          "name": "stdout",
          "text": [
            "SVD variants waz: n_factors=50 | n_epochs=20 | lr_all=0.005 | reg_all=0.02\n",
            "RMSE: 0.9349611468205508\n",
            "MAE: 0.7367845218639859\n",
            "SVD variants waz: n_factors=100 | n_epochs=30 | lr_all=0.01 | reg_all=0.1\n",
            "RMSE: 0.9118542853054455\n",
            "MAE: 0.7211179379762498\n",
            "SVD variants waz: n_factors=150 | n_epochs=40 | lr_all=0.02 | reg_all=0.4\n",
            "RMSE: 0.9581153113868874\n",
            "MAE: 0.7677565918538136\n"
          ]
        }
      ]
    },
    {
      "cell_type": "code",
      "source": [
        "for n_factors in param_grid['n_factors']:\n",
        "    for n_epochs in param_grid['n_epochs']:\n",
        "        for lr_all in param_grid['lr_all']:\n",
        "            for reg_all in param_grid['reg_all']:\n",
        "              model = SVD(n_factors=n_factors, n_epochs=n_epochs, lr_all=lr_all, reg_all=reg_all)\n",
        "              results = cross_validate(model, data, measures=['RMSE', 'MAE'], cv=5, verbose=False)\n",
        "              print(f\"RMSE: {results['test_rmse'].mean():.5f} | MAE: {results['test_mae'].mean():.5f} ||| {n_factors=}, {n_epochs=}, {lr_all=}, {reg_all=}\")\n",
        "\n",
        "\n"
      ],
      "metadata": {
        "colab": {
          "base_uri": "https://localhost:8080/"
        },
        "id": "9x2Cmo_dKRW5",
        "outputId": "b0b257bf-a5a9-4135-aae6-17cc0be252d2"
      },
      "execution_count": 38,
      "outputs": [
        {
          "output_type": "stream",
          "name": "stdout",
          "text": [
            "RMSE: 0.93403 | MAE: 0.73651 ||| n_factors=50, n_epochs=20, lr_all=0.005, reg_all=0.02\n",
            "RMSE: 0.94026 | MAE: 0.74544 ||| n_factors=50, n_epochs=20, lr_all=0.005, reg_all=0.1\n",
            "RMSE: 0.95688 | MAE: 0.76640 ||| n_factors=50, n_epochs=20, lr_all=0.005, reg_all=0.4\n",
            "RMSE: 0.95523 | MAE: 0.74820 ||| n_factors=50, n_epochs=20, lr_all=0.01, reg_all=0.02\n",
            "RMSE: 0.92285 | MAE: 0.73065 ||| n_factors=50, n_epochs=20, lr_all=0.01, reg_all=0.1\n",
            "RMSE: 0.95526 | MAE: 0.76471 ||| n_factors=50, n_epochs=20, lr_all=0.01, reg_all=0.4\n",
            "RMSE: 1.00081 | MAE: 0.77971 ||| n_factors=50, n_epochs=20, lr_all=0.02, reg_all=0.02\n",
            "RMSE: 0.91275 | MAE: 0.72136 ||| n_factors=50, n_epochs=20, lr_all=0.02, reg_all=0.1\n",
            "RMSE: 0.95903 | MAE: 0.76860 ||| n_factors=50, n_epochs=20, lr_all=0.02, reg_all=0.4\n",
            "RMSE: 0.93897 | MAE: 0.73726 ||| n_factors=50, n_epochs=30, lr_all=0.005, reg_all=0.02\n",
            "RMSE: 0.93164 | MAE: 0.73820 ||| n_factors=50, n_epochs=30, lr_all=0.005, reg_all=0.1\n",
            "RMSE: 0.95544 | MAE: 0.76530 ||| n_factors=50, n_epochs=30, lr_all=0.005, reg_all=0.4\n",
            "RMSE: 0.98180 | MAE: 0.76625 ||| n_factors=50, n_epochs=30, lr_all=0.01, reg_all=0.02\n",
            "RMSE: 0.91427 | MAE: 0.72307 ||| n_factors=50, n_epochs=30, lr_all=0.01, reg_all=0.1\n",
            "RMSE: 0.95554 | MAE: 0.76517 ||| n_factors=50, n_epochs=30, lr_all=0.01, reg_all=0.4\n",
            "RMSE: 1.02158 | MAE: 0.79569 ||| n_factors=50, n_epochs=30, lr_all=0.02, reg_all=0.02\n",
            "RMSE: 0.91317 | MAE: 0.72146 ||| n_factors=50, n_epochs=30, lr_all=0.02, reg_all=0.1\n",
            "RMSE: 0.95714 | MAE: 0.76637 ||| n_factors=50, n_epochs=30, lr_all=0.02, reg_all=0.4\n",
            "RMSE: 0.95406 | MAE: 0.74687 ||| n_factors=50, n_epochs=40, lr_all=0.005, reg_all=0.02\n",
            "RMSE: 0.92152 | MAE: 0.72910 ||| n_factors=50, n_epochs=40, lr_all=0.005, reg_all=0.1\n",
            "RMSE: 0.95604 | MAE: 0.76573 ||| n_factors=50, n_epochs=40, lr_all=0.005, reg_all=0.4\n",
            "RMSE: 1.00350 | MAE: 0.78250 ||| n_factors=50, n_epochs=40, lr_all=0.01, reg_all=0.02\n",
            "RMSE: 0.91174 | MAE: 0.72035 ||| n_factors=50, n_epochs=40, lr_all=0.01, reg_all=0.1\n",
            "RMSE: 0.95694 | MAE: 0.76633 ||| n_factors=50, n_epochs=40, lr_all=0.01, reg_all=0.4\n",
            "RMSE: 1.03333 | MAE: 0.80544 ||| n_factors=50, n_epochs=40, lr_all=0.02, reg_all=0.02\n",
            "RMSE: 0.91359 | MAE: 0.72079 ||| n_factors=50, n_epochs=40, lr_all=0.02, reg_all=0.1\n",
            "RMSE: 0.95942 | MAE: 0.76851 ||| n_factors=50, n_epochs=40, lr_all=0.02, reg_all=0.4\n",
            "RMSE: 0.93797 | MAE: 0.73954 ||| n_factors=100, n_epochs=20, lr_all=0.005, reg_all=0.02\n",
            "RMSE: 0.93735 | MAE: 0.74310 ||| n_factors=100, n_epochs=20, lr_all=0.005, reg_all=0.1\n",
            "RMSE: 0.95641 | MAE: 0.76578 ||| n_factors=100, n_epochs=20, lr_all=0.005, reg_all=0.4\n",
            "RMSE: 0.95384 | MAE: 0.74775 ||| n_factors=100, n_epochs=20, lr_all=0.01, reg_all=0.02\n",
            "RMSE: 0.92085 | MAE: 0.72888 ||| n_factors=100, n_epochs=20, lr_all=0.01, reg_all=0.1\n",
            "RMSE: 0.95587 | MAE: 0.76584 ||| n_factors=100, n_epochs=20, lr_all=0.01, reg_all=0.4\n",
            "RMSE: 0.97822 | MAE: 0.76728 ||| n_factors=100, n_epochs=20, lr_all=0.02, reg_all=0.02\n",
            "RMSE: 0.91223 | MAE: 0.72077 ||| n_factors=100, n_epochs=20, lr_all=0.02, reg_all=0.1\n",
            "RMSE: 0.95748 | MAE: 0.76614 ||| n_factors=100, n_epochs=20, lr_all=0.02, reg_all=0.4\n",
            "RMSE: 0.94257 | MAE: 0.73997 ||| n_factors=100, n_epochs=30, lr_all=0.005, reg_all=0.02\n",
            "RMSE: 0.92696 | MAE: 0.73422 ||| n_factors=100, n_epochs=30, lr_all=0.005, reg_all=0.1\n",
            "RMSE: 0.95556 | MAE: 0.76524 ||| n_factors=100, n_epochs=30, lr_all=0.005, reg_all=0.4\n",
            "RMSE: 0.97081 | MAE: 0.76108 ||| n_factors=100, n_epochs=30, lr_all=0.01, reg_all=0.02\n",
            "RMSE: 0.91272 | MAE: 0.72178 ||| n_factors=100, n_epochs=30, lr_all=0.01, reg_all=0.1\n",
            "RMSE: 0.95603 | MAE: 0.76613 ||| n_factors=100, n_epochs=30, lr_all=0.01, reg_all=0.4\n",
            "RMSE: 0.98344 | MAE: 0.77072 ||| n_factors=100, n_epochs=30, lr_all=0.02, reg_all=0.02\n",
            "RMSE: 0.91141 | MAE: 0.72030 ||| n_factors=100, n_epochs=30, lr_all=0.02, reg_all=0.1\n",
            "RMSE: 0.95757 | MAE: 0.76727 ||| n_factors=100, n_epochs=30, lr_all=0.02, reg_all=0.4\n",
            "RMSE: 0.95509 | MAE: 0.74873 ||| n_factors=100, n_epochs=40, lr_all=0.005, reg_all=0.02\n",
            "RMSE: 0.91986 | MAE: 0.72774 ||| n_factors=100, n_epochs=40, lr_all=0.005, reg_all=0.1\n",
            "RMSE: 0.95522 | MAE: 0.76522 ||| n_factors=100, n_epochs=40, lr_all=0.005, reg_all=0.4\n",
            "RMSE: 0.97770 | MAE: 0.76630 ||| n_factors=100, n_epochs=40, lr_all=0.01, reg_all=0.02\n",
            "RMSE: 0.91060 | MAE: 0.72017 ||| n_factors=100, n_epochs=40, lr_all=0.01, reg_all=0.1\n",
            "RMSE: 0.95516 | MAE: 0.76515 ||| n_factors=100, n_epochs=40, lr_all=0.01, reg_all=0.4\n",
            "RMSE: 0.98193 | MAE: 0.77009 ||| n_factors=100, n_epochs=40, lr_all=0.02, reg_all=0.02\n",
            "RMSE: 0.91335 | MAE: 0.72177 ||| n_factors=100, n_epochs=40, lr_all=0.02, reg_all=0.1\n",
            "RMSE: 0.95862 | MAE: 0.76720 ||| n_factors=100, n_epochs=40, lr_all=0.02, reg_all=0.4\n",
            "RMSE: 0.93985 | MAE: 0.73991 ||| n_factors=150, n_epochs=20, lr_all=0.005, reg_all=0.02\n",
            "RMSE: 0.93561 | MAE: 0.74159 ||| n_factors=150, n_epochs=20, lr_all=0.005, reg_all=0.1\n",
            "RMSE: 0.95653 | MAE: 0.76636 ||| n_factors=150, n_epochs=20, lr_all=0.005, reg_all=0.4\n",
            "RMSE: 0.95224 | MAE: 0.74764 ||| n_factors=150, n_epochs=20, lr_all=0.01, reg_all=0.02\n",
            "RMSE: 0.91904 | MAE: 0.72723 ||| n_factors=150, n_epochs=20, lr_all=0.01, reg_all=0.1\n",
            "RMSE: 0.95635 | MAE: 0.76566 ||| n_factors=150, n_epochs=20, lr_all=0.01, reg_all=0.4\n",
            "RMSE: 0.96062 | MAE: 0.75455 ||| n_factors=150, n_epochs=20, lr_all=0.02, reg_all=0.02\n",
            "RMSE: 0.91137 | MAE: 0.72082 ||| n_factors=150, n_epochs=20, lr_all=0.02, reg_all=0.1\n",
            "RMSE: 0.95937 | MAE: 0.76855 ||| n_factors=150, n_epochs=20, lr_all=0.02, reg_all=0.4\n",
            "RMSE: 0.94566 | MAE: 0.74359 ||| n_factors=150, n_epochs=30, lr_all=0.005, reg_all=0.02\n",
            "RMSE: 0.92498 | MAE: 0.73229 ||| n_factors=150, n_epochs=30, lr_all=0.005, reg_all=0.1\n",
            "RMSE: 0.95516 | MAE: 0.76479 ||| n_factors=150, n_epochs=30, lr_all=0.005, reg_all=0.4\n",
            "RMSE: 0.95793 | MAE: 0.75280 ||| n_factors=150, n_epochs=30, lr_all=0.01, reg_all=0.02\n",
            "RMSE: 0.91217 | MAE: 0.72178 ||| n_factors=150, n_epochs=30, lr_all=0.01, reg_all=0.1\n",
            "RMSE: 0.95601 | MAE: 0.76589 ||| n_factors=150, n_epochs=30, lr_all=0.01, reg_all=0.4\n",
            "RMSE: 0.95843 | MAE: 0.75313 ||| n_factors=150, n_epochs=30, lr_all=0.02, reg_all=0.02\n",
            "RMSE: 0.91117 | MAE: 0.72017 ||| n_factors=150, n_epochs=30, lr_all=0.02, reg_all=0.1\n",
            "RMSE: 0.95900 | MAE: 0.76833 ||| n_factors=150, n_epochs=30, lr_all=0.02, reg_all=0.4\n",
            "RMSE: 0.95321 | MAE: 0.74866 ||| n_factors=150, n_epochs=40, lr_all=0.005, reg_all=0.02\n",
            "RMSE: 0.91837 | MAE: 0.72684 ||| n_factors=150, n_epochs=40, lr_all=0.005, reg_all=0.1\n",
            "RMSE: 0.95546 | MAE: 0.76484 ||| n_factors=150, n_epochs=40, lr_all=0.005, reg_all=0.4\n",
            "RMSE: 0.96151 | MAE: 0.75693 ||| n_factors=150, n_epochs=40, lr_all=0.01, reg_all=0.02\n",
            "RMSE: 0.91009 | MAE: 0.71907 ||| n_factors=150, n_epochs=40, lr_all=0.01, reg_all=0.1\n",
            "RMSE: 0.95672 | MAE: 0.76651 ||| n_factors=150, n_epochs=40, lr_all=0.01, reg_all=0.4\n",
            "RMSE: 0.95807 | MAE: 0.75359 ||| n_factors=150, n_epochs=40, lr_all=0.02, reg_all=0.02\n",
            "RMSE: 0.91313 | MAE: 0.72175 ||| n_factors=150, n_epochs=40, lr_all=0.02, reg_all=0.1\n",
            "RMSE: 0.95841 | MAE: 0.76751 ||| n_factors=150, n_epochs=40, lr_all=0.02, reg_all=0.4\n"
          ]
        }
      ]
    },
    {
      "cell_type": "markdown",
      "source": [
        "Порівняня алгоритмів **SVD,  NMF, SVDpp** Використання SVDpp показало дуже мале покращення: RMSE на 0,016 та MAE на 0,016 При значному зросту витрат часу на навчання. NMF показав найгірший результат\n",
        "\n",
        "Підбір варіантів  n_factors, n_epoch, lr_all, reg_all для моделі SVD хоч не дав суттєвих змін в результатах, але покращення були кращі ніж при переборі різних моделей.\n",
        "\n",
        "При SVDpp зі стндартними параметрами результати були:\n",
        "\n",
        "RMSE: 0.9581 MAE: 0.7677\n",
        "\n",
        "\n",
        "При SVD з підбором параметрів вдалося покращити до:\n",
        "\n",
        "RMSE: 0.91009 | MAE: 0.71907\n",
        "З параметрами  n_factors=150, n_epochs=40, lr_all=0.01, reg_all=0.1\n",
        "\n",
        "---\n",
        "\n"
      ],
      "metadata": {
        "id": "oqk-osbqPmwk"
      }
    }
  ]
}