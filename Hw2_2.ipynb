{
  "nbformat": 4,
  "nbformat_minor": 0,
  "metadata": {
    "colab": {
      "provenance": [],
      "mount_file_id": "1B1aqo4rFnNzrGAFXFzuqUYx7J2W9zFWd",
      "authorship_tag": "ABX9TyPwVaZ5m0dX8hppUPVt4YnD",
      "include_colab_link": true
    },
    "kernelspec": {
      "name": "python3",
      "display_name": "Python 3"
    },
    "language_info": {
      "name": "python"
    }
  },
  "cells": [
    {
      "cell_type": "markdown",
      "metadata": {
        "id": "view-in-github",
        "colab_type": "text"
      },
      "source": [
        "<a href=\"https://colab.research.google.com/github/Unfeir/DS/blob/main/Hw2_2.ipynb\" target=\"_parent\"><img src=\"https://colab.research.google.com/assets/colab-badge.svg\" alt=\"Open In Colab\"/></a>"
      ]
    },
    {
      "cell_type": "markdown",
      "source": [
        " Прочитайте файл 2017_jun_final.csv за допомогою методу read_csv"
      ],
      "metadata": {
        "id": "ubCwGjXj97M6"
      }
    },
    {
      "cell_type": "code",
      "source": [
        "import pandas as pd\n",
        "pd.set_option('display.max_columns', 50)\n",
        "pd.set_option('display.width', 1000)\n",
        "\n",
        "df = pd.read_csv(\"/content/drive/MyDrive/Data sets/2017_jun_final.csv\")\n",
        "\n",
        "# print(users.head())"
      ],
      "metadata": {
        "id": "MT6e1IlK_nwT"
      },
      "execution_count": 2,
      "outputs": []
    },
    {
      "cell_type": "markdown",
      "source": [
        "\n",
        "Прочитайте отриману таблицю, використовуючи метод head"
      ],
      "metadata": {
        "id": "tFH_zIbQ-BMs"
      }
    },
    {
      "cell_type": "code",
      "source": [
        "\n",
        "print(df.head())"
      ],
      "metadata": {
        "colab": {
          "base_uri": "https://localhost:8080/"
        },
        "id": "THClU7gF_uV0",
        "outputId": "7072c779-b576-442c-f603-48f7ff1423b1"
      },
      "execution_count": null,
      "outputs": [
        {
          "output_type": "stream",
          "name": "stdout",
          "text": [
            "   N                 Должность Язык.программирования Специализация Общий.опыт.работы Опыт.работы.на.текущем.месте  Зарплата.в.месяц  Изменение.зарплаты.за.12.месяцев    Город     Размер.компании    Тип.компании      Пол  Возраст           Образование Университет  Еще.студент Уровень.английского                    Предметная.область      Дата.заполнения                                         User.Agent   exp  current_job_exp  salary Валюта  cls\n",
            "0  1        Junior QA engineer                   NaN     Manual QA               0.5                          0.5               400                                 0  Харьков       до 10 человек  Аутсорсинговая  женский       20  Незаконченное высшее        ХНЭУ         True       ниже среднего                         iOS,eCommerce  12/06/2017 12:38:08  Mozilla/5.0 (Windows NT 10.0; Win64; x64) Appl...   0.5              0.5     400    NaN   QA\n",
            "1  2        Junior QA engineer                   NaN     Manual QA  меньше 3 месяцев             меньше 3 месяцев               430                               130  Харьков  свыше 1000 человек  Аутсорсинговая  женский       21  Незаконченное высшее        ХНЭУ         True       выше среднего                        Веб-разработка  12/06/2017 12:42:51  Mozilla/5.0 (iPad; CPU OS 10_2_1 like Mac OS X...   0.0              0.0     430    NaN   QA\n",
            "2  3         Software Engineer               C#/.NET           NaN                 4                            1              2500                               800     Киев     до 1000 человек  Аутсорсинговая  мужской       26                Высшее      ДонНТУ        False             средний  Веб-разработка,Корпоративные системы  12/06/2017 13:02:47  Mozilla/5.0 (Windows NT 10.0; Win64; x64) Appl...   4.0              1.0    2500    NaN  DEV\n",
            "3  4         Software Engineer            JavaScript           NaN                 5                            4              2000                               400   Одесса      до 200 человек     Продуктовая  мужской       30               Среднее         NaN        False       ниже среднего   Desktop Applications,Веб-разработка  12/06/2017 13:03:01  Mozilla/5.0 (Windows NT 6.1; Win64; x64) Apple...   5.0              4.0    2000    NaN  DEV\n",
            "4  5  Senior Software Engineer            JavaScript           NaN    10 и более лет                          0.5              4500                               500   Другой       до 10 человек     Продуктовая  мужской       30    Техникум / Колледж         NaN        False             средний   Desktop Applications,Веб-разработка  12/06/2017 13:03:47  Mozilla/5.0 (iPhone; CPU iPhone OS 10_3_2 like...  10.0              0.5    4500    NaN  DEV\n"
          ]
        }
      ]
    },
    {
      "cell_type": "markdown",
      "source": [
        " Визначте розмір таблиці за допомогою методу shape"
      ],
      "metadata": {
        "id": "HXHHBM7N-MDj"
      }
    },
    {
      "cell_type": "code",
      "source": [
        "print(df.shape)"
      ],
      "metadata": {
        "colab": {
          "base_uri": "https://localhost:8080/"
        },
        "id": "ac7Jd9YxCDpA",
        "outputId": "9e48a37a-84ed-4641-94b8-f31ad59ba56e"
      },
      "execution_count": null,
      "outputs": [
        {
          "output_type": "stream",
          "name": "stdout",
          "text": [
            "(8704, 25)\n"
          ]
        }
      ]
    },
    {
      "cell_type": "markdown",
      "source": [
        " Визначте типи всіх стовпців за допомогою dataframe.dtypes"
      ],
      "metadata": {
        "id": "IjaylbJE-ONx"
      }
    },
    {
      "cell_type": "code",
      "source": [
        "print(df.dtypes)"
      ],
      "metadata": {
        "colab": {
          "base_uri": "https://localhost:8080/"
        },
        "id": "zZ2u_FEUCU10",
        "outputId": "cdfbf517-715b-4f84-9ada-8ce827df7418"
      },
      "execution_count": 3,
      "outputs": [
        {
          "output_type": "stream",
          "name": "stdout",
          "text": [
            "N                                     int64\n",
            "Должность                            object\n",
            "Язык.программирования                object\n",
            "Специализация                        object\n",
            "Общий.опыт.работы                    object\n",
            "Опыт.работы.на.текущем.месте         object\n",
            "Зарплата.в.месяц                      int64\n",
            "Изменение.зарплаты.за.12.месяцев      int64\n",
            "Город                                object\n",
            "Размер.компании                      object\n",
            "Тип.компании                         object\n",
            "Пол                                  object\n",
            "Возраст                               int64\n",
            "Образование                          object\n",
            "Университет                          object\n",
            "Еще.студент                            bool\n",
            "Уровень.английского                  object\n",
            "Предметная.область                   object\n",
            "Дата.заполнения                      object\n",
            "User.Agent                           object\n",
            "exp                                 float64\n",
            "current_job_exp                     float64\n",
            "salary                                int64\n",
            "Валюта                               object\n",
            "cls                                  object\n",
            "dtype: object\n"
          ]
        }
      ]
    },
    {
      "cell_type": "markdown",
      "source": [
        "Порахуйте, яка частка пропусків міститься в кожній колонці (використовуйте методи isnull та sum)"
      ],
      "metadata": {
        "id": "Hwfna0Xq-UHg"
      }
    },
    {
      "cell_type": "code",
      "source": [
        "print(df.isnull().sum()/df.shape[0])"
      ],
      "metadata": {
        "colab": {
          "base_uri": "https://localhost:8080/"
        },
        "id": "o35lCpABC6IJ",
        "outputId": "d1ea3083-35b8-4a2d-93e3-6df2912c2211"
      },
      "execution_count": 5,
      "outputs": [
        {
          "output_type": "stream",
          "name": "stdout",
          "text": [
            "N                                   0.000000\n",
            "Должность                           0.000000\n",
            "Язык.программирования               0.442325\n",
            "Специализация                       0.829389\n",
            "Общий.опыт.работы                   0.000000\n",
            "Опыт.работы.на.текущем.месте        0.000000\n",
            "Зарплата.в.месяц                    0.000000\n",
            "Изменение.зарплаты.за.12.месяцев    0.000000\n",
            "Город                               0.000000\n",
            "Размер.компании                     0.000000\n",
            "Тип.компании                        0.000000\n",
            "Пол                                 0.000000\n",
            "Возраст                             0.000000\n",
            "Образование                         0.000000\n",
            "Университет                         0.041131\n",
            "Еще.студент                         0.000000\n",
            "Уровень.английского                 0.000000\n",
            "Предметная.область                  0.025620\n",
            "Дата.заполнения                     0.000000\n",
            "User.Agent                          0.000000\n",
            "exp                                 0.000000\n",
            "current_job_exp                     0.000000\n",
            "salary                              0.000000\n",
            "Валюта                              0.998851\n",
            "cls                                 0.180836\n",
            "dtype: float64\n"
          ]
        }
      ]
    },
    {
      "cell_type": "markdown",
      "source": [
        " Видаліть усі стовпці з пропусками, крім стовпця \"Мова програмування\""
      ],
      "metadata": {
        "id": "h1EPDHXr_BZo"
      }
    },
    {
      "cell_type": "code",
      "source": [
        "columns_to_keep = df.dropna(axis=1, how='any').columns.tolist()\n",
        "columns_to_keep.insert(1, 'Язык.программирования')\n",
        "cleaned_df = df[columns_to_keep]\n",
        "\n",
        "print(cleaned_df)"
      ],
      "metadata": {
        "id": "nzm01LK9DL_g",
        "colab": {
          "base_uri": "https://localhost:8080/"
        },
        "outputId": "53fb8beb-c10a-4c92-92bb-3c81e351310b"
      },
      "execution_count": 17,
      "outputs": [
        {
          "output_type": "stream",
          "name": "stdout",
          "text": [
            "         N Язык.программирования                 Должность Общий.опыт.работы Опыт.работы.на.текущем.месте  Зарплата.в.месяц  Изменение.зарплаты.за.12.месяцев    Город     Размер.компании     Тип.компании      Пол  Возраст           Образование  Еще.студент Уровень.английского      Дата.заполнения                                         User.Agent   exp  current_job_exp  salary\n",
            "0        1                   NaN        Junior QA engineer               0.5                          0.5               400                                 0  Харьков       до 10 человек   Аутсорсинговая  женский       20  Незаконченное высшее         True       ниже среднего  12/06/2017 12:38:08  Mozilla/5.0 (Windows NT 10.0; Win64; x64) Appl...   0.5              0.5     400\n",
            "1        2                   NaN        Junior QA engineer  меньше 3 месяцев             меньше 3 месяцев               430                               130  Харьков  свыше 1000 человек   Аутсорсинговая  женский       21  Незаконченное высшее         True       выше среднего  12/06/2017 12:42:51  Mozilla/5.0 (iPad; CPU OS 10_2_1 like Mac OS X...   0.0              0.0     430\n",
            "2        3               C#/.NET         Software Engineer                 4                            1              2500                               800     Киев     до 1000 человек   Аутсорсинговая  мужской       26                Высшее        False             средний  12/06/2017 13:02:47  Mozilla/5.0 (Windows NT 10.0; Win64; x64) Appl...   4.0              1.0    2500\n",
            "3        4            JavaScript         Software Engineer                 5                            4              2000                               400   Одесса      до 200 человек      Продуктовая  мужской       30               Среднее        False       ниже среднего  12/06/2017 13:03:01  Mozilla/5.0 (Windows NT 6.1; Win64; x64) Apple...   5.0              4.0    2000\n",
            "4        5            JavaScript  Senior Software Engineer    10 и более лет                          0.5              4500                               500   Другой       до 10 человек      Продуктовая  мужской       30    Техникум / Колледж        False             средний  12/06/2017 13:03:47  Mozilla/5.0 (iPhone; CPU iPhone OS 10_3_2 like...  10.0              0.5    4500\n",
            "...    ...                   ...                       ...               ...                          ...               ...                               ...      ...                 ...              ...      ...      ...                   ...          ...                 ...                  ...                                                ...   ...              ...     ...\n",
            "8699  8700                   NaN               QA engineer                 1             меньше 3 месяцев               700                               700   Одесса       до 50 человек   Аутсорсинговая  мужской       23                Высшее        False             средний  12/07/2017 15:45:24  Mozilla/5.0 (X11; Ubuntu; Linux x86_64; rv:54....   1.0              0.0     700\n",
            "8700  8701                   NaN                 Marketing               0.5                          0.5               400                               120     Киев       до 50 человек      Продуктовая  женский       22                Высшее        False       ниже среднего  12/07/2017 17:00:06  Mozilla/5.0 (Windows NT 10.0; Win64; x64) Appl...   0.5              0.5     400\n",
            "8701  8702            Ruby/Rails  Junior Software Engineer                 1                          0.5               800                               500    Львов       до 10 человек  Аутстаффинговая  мужской       30  Незаконченное высшее        False       выше среднего  12/07/2017 17:32:26  Mozilla/5.0 (X11; Linux x86_64) AppleWebKit/53...   1.0              0.5     800\n",
            "8702  8703                   NaN                 Team lead                 6                            4              2600                                 0    Днепр  свыше 1000 человек   Аутсорсинговая  мужской       34                Высшее        False         продвинутый  12/07/2017 18:14:59  Mozilla/5.0 (Windows NT 6.1) AppleWebKit/537.3...   6.0              4.0    2600\n",
            "8703  8704                  Java  Senior Software Engineer                 7                            2              5000                               800   Одесса     до 1000 человек      Продуктовая  мужской       28                Высшее        False       выше среднего  12/07/2017 21:28:57  Mozilla/5.0 (iPad; CPU OS 10_3_2 like Mac OS X...   7.0              2.0    5000\n",
            "\n",
            "[8704 rows x 20 columns]\n"
          ]
        }
      ]
    },
    {
      "cell_type": "markdown",
      "source": [
        " Знову порахуйте, яка частка пропусків міститься в кожній колонці і переконайтеся, що залишився тільки стовпець \"Мова.програмування\""
      ],
      "metadata": {
        "id": "7gyTl6jM_E3_"
      }
    },
    {
      "cell_type": "code",
      "source": [
        "print(cleaned_df.isnull().sum()/df.shape[0])"
      ],
      "metadata": {
        "colab": {
          "base_uri": "https://localhost:8080/"
        },
        "id": "NQvtZtYrU8vA",
        "outputId": "d972fa1a-5420-4ac4-e576-9c5c874a91a9"
      },
      "execution_count": 19,
      "outputs": [
        {
          "output_type": "stream",
          "name": "stdout",
          "text": [
            "N                                   0.000000\n",
            "Язык.программирования               0.442325\n",
            "Должность                           0.000000\n",
            "Общий.опыт.работы                   0.000000\n",
            "Опыт.работы.на.текущем.месте        0.000000\n",
            "Зарплата.в.месяц                    0.000000\n",
            "Изменение.зарплаты.за.12.месяцев    0.000000\n",
            "Город                               0.000000\n",
            "Размер.компании                     0.000000\n",
            "Тип.компании                        0.000000\n",
            "Пол                                 0.000000\n",
            "Возраст                             0.000000\n",
            "Образование                         0.000000\n",
            "Еще.студент                         0.000000\n",
            "Уровень.английского                 0.000000\n",
            "Дата.заполнения                     0.000000\n",
            "User.Agent                          0.000000\n",
            "exp                                 0.000000\n",
            "current_job_exp                     0.000000\n",
            "salary                              0.000000\n",
            "dtype: float64\n"
          ]
        }
      ]
    },
    {
      "cell_type": "markdown",
      "source": [
        " Видаліть усі рядки у вихідній таблиці за допомогою методу dropna"
      ],
      "metadata": {
        "id": "sDGN9_pW_HnG"
      }
    },
    {
      "cell_type": "code",
      "source": [
        "cleaned_df.dropna(axis=0)\n",
        "print(cleaned_df)"
      ],
      "metadata": {
        "colab": {
          "base_uri": "https://localhost:8080/"
        },
        "id": "du8kCIJQVKEY",
        "outputId": "c891d84b-83b1-4058-95ff-984966e86728"
      },
      "execution_count": 23,
      "outputs": [
        {
          "output_type": "stream",
          "name": "stdout",
          "text": [
            "         N Язык.программирования                 Должность Общий.опыт.работы Опыт.работы.на.текущем.месте  Зарплата.в.месяц  Изменение.зарплаты.за.12.месяцев    Город     Размер.компании     Тип.компании      Пол  Возраст           Образование  Еще.студент Уровень.английского      Дата.заполнения                                         User.Agent   exp  current_job_exp  salary\n",
            "0        1                   NaN        Junior QA engineer               0.5                          0.5               400                                 0  Харьков       до 10 человек   Аутсорсинговая  женский       20  Незаконченное высшее         True       ниже среднего  12/06/2017 12:38:08  Mozilla/5.0 (Windows NT 10.0; Win64; x64) Appl...   0.5              0.5     400\n",
            "1        2                   NaN        Junior QA engineer  меньше 3 месяцев             меньше 3 месяцев               430                               130  Харьков  свыше 1000 человек   Аутсорсинговая  женский       21  Незаконченное высшее         True       выше среднего  12/06/2017 12:42:51  Mozilla/5.0 (iPad; CPU OS 10_2_1 like Mac OS X...   0.0              0.0     430\n",
            "2        3               C#/.NET         Software Engineer                 4                            1              2500                               800     Киев     до 1000 человек   Аутсорсинговая  мужской       26                Высшее        False             средний  12/06/2017 13:02:47  Mozilla/5.0 (Windows NT 10.0; Win64; x64) Appl...   4.0              1.0    2500\n",
            "3        4            JavaScript         Software Engineer                 5                            4              2000                               400   Одесса      до 200 человек      Продуктовая  мужской       30               Среднее        False       ниже среднего  12/06/2017 13:03:01  Mozilla/5.0 (Windows NT 6.1; Win64; x64) Apple...   5.0              4.0    2000\n",
            "4        5            JavaScript  Senior Software Engineer    10 и более лет                          0.5              4500                               500   Другой       до 10 человек      Продуктовая  мужской       30    Техникум / Колледж        False             средний  12/06/2017 13:03:47  Mozilla/5.0 (iPhone; CPU iPhone OS 10_3_2 like...  10.0              0.5    4500\n",
            "...    ...                   ...                       ...               ...                          ...               ...                               ...      ...                 ...              ...      ...      ...                   ...          ...                 ...                  ...                                                ...   ...              ...     ...\n",
            "8699  8700                   NaN               QA engineer                 1             меньше 3 месяцев               700                               700   Одесса       до 50 человек   Аутсорсинговая  мужской       23                Высшее        False             средний  12/07/2017 15:45:24  Mozilla/5.0 (X11; Ubuntu; Linux x86_64; rv:54....   1.0              0.0     700\n",
            "8700  8701                   NaN                 Marketing               0.5                          0.5               400                               120     Киев       до 50 человек      Продуктовая  женский       22                Высшее        False       ниже среднего  12/07/2017 17:00:06  Mozilla/5.0 (Windows NT 10.0; Win64; x64) Appl...   0.5              0.5     400\n",
            "8701  8702            Ruby/Rails  Junior Software Engineer                 1                          0.5               800                               500    Львов       до 10 человек  Аутстаффинговая  мужской       30  Незаконченное высшее        False       выше среднего  12/07/2017 17:32:26  Mozilla/5.0 (X11; Linux x86_64) AppleWebKit/53...   1.0              0.5     800\n",
            "8702  8703                   NaN                 Team lead                 6                            4              2600                                 0    Днепр  свыше 1000 человек   Аутсорсинговая  мужской       34                Высшее        False         продвинутый  12/07/2017 18:14:59  Mozilla/5.0 (Windows NT 6.1) AppleWebKit/537.3...   6.0              4.0    2600\n",
            "8703  8704                  Java  Senior Software Engineer                 7                            2              5000                               800   Одесса     до 1000 человек      Продуктовая  мужской       28                Высшее        False       выше среднего  12/07/2017 21:28:57  Mozilla/5.0 (iPad; CPU OS 10_3_2 like Mac OS X...   7.0              2.0    5000\n",
            "\n",
            "[8704 rows x 20 columns]\n"
          ]
        }
      ]
    },
    {
      "cell_type": "markdown",
      "source": [
        " Визначте новий розмір таблиці за допомогою методу shape"
      ],
      "metadata": {
        "id": "WWO5Yl_-_J6k"
      }
    },
    {
      "cell_type": "code",
      "source": [
        "cleaned_df.shape"
      ],
      "metadata": {
        "colab": {
          "base_uri": "https://localhost:8080/"
        },
        "id": "13FmyY7dVWsJ",
        "outputId": "5c1094d5-c8b7-4ca2-a7ee-b00c46fe1a00"
      },
      "execution_count": 22,
      "outputs": [
        {
          "output_type": "execute_result",
          "data": {
            "text/plain": [
              "(8704, 20)"
            ]
          },
          "metadata": {},
          "execution_count": 22
        }
      ]
    },
    {
      "cell_type": "markdown",
      "source": [
        " Створіть нову таблицю python_data, в якій будуть тільки рядки зі спеціалістами, які вказали мову програмування Python\n"
      ],
      "metadata": {
        "id": "PpuiayyZ_Pc3"
      }
    },
    {
      "cell_type": "code",
      "source": [
        "python_data = cleaned_df[cleaned_df['Язык.программирования']== 'Python']\n",
        "print(python_data)"
      ],
      "metadata": {
        "colab": {
          "base_uri": "https://localhost:8080/"
        },
        "id": "j79HyHgAdpZg",
        "outputId": "a8174988-e68f-4ca0-d27f-83f7cf605aac"
      },
      "execution_count": 24,
      "outputs": [
        {
          "output_type": "stream",
          "name": "stdout",
          "text": [
            "         N Язык.программирования                 Должность Общий.опыт.работы Опыт.работы.на.текущем.месте  Зарплата.в.месяц  Изменение.зарплаты.за.12.месяцев      Город     Размер.компании    Тип.компании      Пол  Возраст           Образование  Еще.студент Уровень.английского      Дата.заполнения                                         User.Agent   exp  current_job_exp  salary\n",
            "12      13                Python         Software Engineer                 1             меньше 3 месяцев               800                               200       Киев       до 50 человек  Аутсорсинговая  мужской       26                Высшее        False       ниже среднего  12/06/2017 13:05:54  Mozilla/5.0 (Windows NT 6.1; Win64; x64) Apple...   1.0              0.0     800\n",
            "68      69                Python         Software Engineer               1.5                          0.5               900                               900       Киев       до 10 человек         Стартап  мужской       21  Незаконченное высшее         True       выше среднего  12/06/2017 13:11:17  Mozilla/5.0 (Windows NT 10.0; Win64; x64) Appl...   1.5              0.5     900\n",
            "87      88                Python  Junior Software Engineer               0.5                          0.5               600                                 0       Киев       до 10 человек  Аутсорсинговая  мужской       19  Незаконченное высшее         True       выше среднего  12/06/2017 13:12:25  Mozilla/5.0 (X11; Linux x86_64) AppleWebKit/53...   0.5              0.5     600\n",
            "114    115                Python  Junior Software Engineer               1.5                          0.5               685                               250       Киев     до 1000 человек  Аутсорсинговая  мужской       21  Незаконченное высшее        False             средний  12/06/2017 13:14:52  Mozilla/5.0 (X11; Linux x86_64) AppleWebKit/53...   1.5              0.5     685\n",
            "143    144                Python  Junior Software Engineer                 1                            1               750                               250       Киев       до 10 человек  Аутсорсинговая  мужской       21  Незаконченное высшее         True       выше среднего  12/06/2017 13:19:10  Mozilla/5.0 (X11; Linux x86_64) AppleWebKit/53...   1.0              1.0     750\n",
            "...    ...                   ...                       ...               ...                          ...               ...                               ...        ...                 ...             ...      ...      ...                   ...          ...                 ...                  ...                                                ...   ...              ...     ...\n",
            "8546  8547                Python         Software Engineer                 5                            1              2000                               800  Запорожье       до 50 человек  Аутсорсинговая  мужской       22  Незаконченное высшее        False             средний  10/07/2017 14:11:26  Mozilla/5.0 (Macintosh; Intel Mac OS X 10_12_5...   5.0              1.0    2000\n",
            "8625  8626                Python         Software Engineer                 4                            1              1750                                 0       Киев  свыше 1000 человек  Аутсорсинговая  мужской       28               Среднее        False             средний  11/07/2017 16:15:40  Mozilla/5.0 (X11; Ubuntu; Linux x86_64; rv:54....   4.0              1.0    1750\n",
            "8635  8636                Python  Senior Software Engineer    10 и более лет             меньше 3 месяцев              4000                              1300   Удаленно       до 10 человек         Стартап  мужской       33                Высшее        False       выше среднего  11/07/2017 17:51:36  Mozilla/5.0 (X11; Linux x86_64) AppleWebKit/53...  10.0              0.0    4000\n",
            "8673  8674                Python  Junior Software Engineer               0.5                          0.5               350                                50       Киев       до 50 человек  Аутсорсинговая  мужской       22                Высшее        False             средний  12/07/2017 09:37:16  Mozilla/5.0 (X11; Ubuntu; Linux x86_64; rv:54....   0.5              0.5     350\n",
            "8695  8696                Python         Software Engineer                 1                          0.5              1500                              1000       Киев       до 10 человек         Стартап  мужской       29                Высшее        False             средний  12/07/2017 14:39:21  Mozilla/5.0 (X11; Linux x86_64) AppleWebKit/53...   1.0              0.5    1500\n",
            "\n",
            "[207 rows x 20 columns]\n"
          ]
        }
      ]
    },
    {
      "cell_type": "markdown",
      "source": [
        " Визначте розмір таблиці python_data за допомогою методу shape"
      ],
      "metadata": {
        "id": "_AVIr4bh_SWB"
      }
    },
    {
      "cell_type": "code",
      "source": [
        "print(python_data.shape)"
      ],
      "metadata": {
        "colab": {
          "base_uri": "https://localhost:8080/"
        },
        "id": "O1ppMtWte2Ry",
        "outputId": "f183cf9c-c31d-4cb4-b297-1abfeea05c68"
      },
      "execution_count": 25,
      "outputs": [
        {
          "output_type": "stream",
          "name": "stdout",
          "text": [
            "(207, 20)\n"
          ]
        }
      ]
    },
    {
      "cell_type": "markdown",
      "source": [
        " Використовуючи метод groupby, виконайте групування за стовпчиком \"Посада\""
      ],
      "metadata": {
        "id": "qAIPsOwG_WeL"
      }
    },
    {
      "cell_type": "code",
      "source": [
        "grouped = python_data.groupby('Должность')\n",
        "# for i in grouped:\n",
        "#   print(i)"
      ],
      "metadata": {
        "id": "1DYEZkNGe_k9"
      },
      "execution_count": 26,
      "outputs": []
    },
    {
      "cell_type": "markdown",
      "source": [
        " Створіть новий DataFrame, де для згрупованих даних за стовпчиком \"Посада\", виконайте агрегацію даних за допомогою методу agg і знайдіть мінімальне та максимальне значення у стовпчику \"Зарплата.в.місяць\""
      ],
      "metadata": {
        "id": "U3kAkI5v_ZH5"
      }
    },
    {
      "cell_type": "code",
      "source": [
        "agg_data = grouped.agg({'salary': ['min', 'max']})\n",
        "print(agg_data)\n",
        "print(type(agg_data))\n",
        "print(agg_data.shape)"
      ],
      "metadata": {
        "colab": {
          "base_uri": "https://localhost:8080/"
        },
        "id": "LdV9_eurftDg",
        "outputId": "a3e4fe3e-9d99-4c16-96f1-e9be02283b85"
      },
      "execution_count": 37,
      "outputs": [
        {
          "output_type": "stream",
          "name": "stdout",
          "text": [
            "                         salary      \n",
            "                            min   max\n",
            "Должность                            \n",
            "Junior Software Engineer    100  1250\n",
            "Senior Software Engineer   1300  9200\n",
            "Software Engineer           500  5400\n",
            "System Architect           3000  5000\n",
            "Technical Lead             1425  6200\n",
            "<class 'pandas.core.frame.DataFrame'>\n",
            "(5, 2)\n"
          ]
        }
      ]
    },
    {
      "cell_type": "markdown",
      "source": [
        " Створіть функцію fill_avg_salary, яка повертатиме середнє значення заробітної плати на місяць. Використовуйте її для методу apply та створіть новий стовпчик \"avg\""
      ],
      "metadata": {
        "id": "obUczcG3_cCu"
      }
    },
    {
      "cell_type": "code",
      "source": [
        "def fill_avg_salary(data):\n",
        "  return (data[0] + data[1]) / 2\n",
        "\n",
        "agg_data[\"avg\"] = agg_data.apply(fill_avg_salary, axis=1)\n",
        "\n",
        "# Виведення результатів\n",
        "print(agg_data)"
      ],
      "metadata": {
        "colab": {
          "base_uri": "https://localhost:8080/"
        },
        "id": "Kv8lk_7PV0Oo",
        "outputId": "a67c2929-8d7f-4d80-9e3a-90a4b1c8f70e"
      },
      "execution_count": 45,
      "outputs": [
        {
          "output_type": "stream",
          "name": "stdout",
          "text": [
            "                         salary           avg\n",
            "                            min   max        \n",
            "Должность                                    \n",
            "Junior Software Engineer    100  1250   675.0\n",
            "Senior Software Engineer   1300  9200  5250.0\n",
            "Software Engineer           500  5400  2950.0\n",
            "System Architect           3000  5000  4000.0\n",
            "Technical Lead             1425  6200  3812.5\n"
          ]
        }
      ]
    },
    {
      "cell_type": "markdown",
      "source": [
        "Створіть описову статистику за допомогою методу describe для нового стовпчика."
      ],
      "metadata": {
        "id": "U62Zdooj_hiA"
      }
    },
    {
      "cell_type": "code",
      "source": [
        "d = agg_data.describe()\n",
        "d"
      ],
      "metadata": {
        "colab": {
          "base_uri": "https://localhost:8080/",
          "height": 332
        },
        "id": "1RDUpBwQgr9s",
        "outputId": "571dedec-7219-447a-ba94-f3c090db4fc3"
      },
      "execution_count": 46,
      "outputs": [
        {
          "output_type": "execute_result",
          "data": {
            "text/plain": [
              "            salary                       avg\n",
              "               min          max             \n",
              "count     5.000000     5.000000     5.000000\n",
              "mean   1265.000000  5410.000000  3337.500000\n",
              "std    1115.739665  2848.771665  1700.091909\n",
              "min     100.000000  1250.000000   675.000000\n",
              "25%     500.000000  5000.000000  2950.000000\n",
              "50%    1300.000000  5400.000000  3812.500000\n",
              "75%    1425.000000  6200.000000  4000.000000\n",
              "max    3000.000000  9200.000000  5250.000000"
            ],
            "text/html": [
              "\n",
              "  <div id=\"df-d0992b0b-4292-4f7f-a837-434e53c58867\">\n",
              "    <div class=\"colab-df-container\">\n",
              "      <div>\n",
              "<style scoped>\n",
              "    .dataframe tbody tr th:only-of-type {\n",
              "        vertical-align: middle;\n",
              "    }\n",
              "\n",
              "    .dataframe tbody tr th {\n",
              "        vertical-align: top;\n",
              "    }\n",
              "\n",
              "    .dataframe thead tr th {\n",
              "        text-align: left;\n",
              "    }\n",
              "</style>\n",
              "<table border=\"1\" class=\"dataframe\">\n",
              "  <thead>\n",
              "    <tr>\n",
              "      <th></th>\n",
              "      <th colspan=\"2\" halign=\"left\">salary</th>\n",
              "      <th>avg</th>\n",
              "    </tr>\n",
              "    <tr>\n",
              "      <th></th>\n",
              "      <th>min</th>\n",
              "      <th>max</th>\n",
              "      <th></th>\n",
              "    </tr>\n",
              "  </thead>\n",
              "  <tbody>\n",
              "    <tr>\n",
              "      <th>count</th>\n",
              "      <td>5.000000</td>\n",
              "      <td>5.000000</td>\n",
              "      <td>5.000000</td>\n",
              "    </tr>\n",
              "    <tr>\n",
              "      <th>mean</th>\n",
              "      <td>1265.000000</td>\n",
              "      <td>5410.000000</td>\n",
              "      <td>3337.500000</td>\n",
              "    </tr>\n",
              "    <tr>\n",
              "      <th>std</th>\n",
              "      <td>1115.739665</td>\n",
              "      <td>2848.771665</td>\n",
              "      <td>1700.091909</td>\n",
              "    </tr>\n",
              "    <tr>\n",
              "      <th>min</th>\n",
              "      <td>100.000000</td>\n",
              "      <td>1250.000000</td>\n",
              "      <td>675.000000</td>\n",
              "    </tr>\n",
              "    <tr>\n",
              "      <th>25%</th>\n",
              "      <td>500.000000</td>\n",
              "      <td>5000.000000</td>\n",
              "      <td>2950.000000</td>\n",
              "    </tr>\n",
              "    <tr>\n",
              "      <th>50%</th>\n",
              "      <td>1300.000000</td>\n",
              "      <td>5400.000000</td>\n",
              "      <td>3812.500000</td>\n",
              "    </tr>\n",
              "    <tr>\n",
              "      <th>75%</th>\n",
              "      <td>1425.000000</td>\n",
              "      <td>6200.000000</td>\n",
              "      <td>4000.000000</td>\n",
              "    </tr>\n",
              "    <tr>\n",
              "      <th>max</th>\n",
              "      <td>3000.000000</td>\n",
              "      <td>9200.000000</td>\n",
              "      <td>5250.000000</td>\n",
              "    </tr>\n",
              "  </tbody>\n",
              "</table>\n",
              "</div>\n",
              "      <button class=\"colab-df-convert\" onclick=\"convertToInteractive('df-d0992b0b-4292-4f7f-a837-434e53c58867')\"\n",
              "              title=\"Convert this dataframe to an interactive table.\"\n",
              "              style=\"display:none;\">\n",
              "        \n",
              "  <svg xmlns=\"http://www.w3.org/2000/svg\" height=\"24px\"viewBox=\"0 0 24 24\"\n",
              "       width=\"24px\">\n",
              "    <path d=\"M0 0h24v24H0V0z\" fill=\"none\"/>\n",
              "    <path d=\"M18.56 5.44l.94 2.06.94-2.06 2.06-.94-2.06-.94-.94-2.06-.94 2.06-2.06.94zm-11 1L8.5 8.5l.94-2.06 2.06-.94-2.06-.94L8.5 2.5l-.94 2.06-2.06.94zm10 10l.94 2.06.94-2.06 2.06-.94-2.06-.94-.94-2.06-.94 2.06-2.06.94z\"/><path d=\"M17.41 7.96l-1.37-1.37c-.4-.4-.92-.59-1.43-.59-.52 0-1.04.2-1.43.59L10.3 9.45l-7.72 7.72c-.78.78-.78 2.05 0 2.83L4 21.41c.39.39.9.59 1.41.59.51 0 1.02-.2 1.41-.59l7.78-7.78 2.81-2.81c.8-.78.8-2.07 0-2.86zM5.41 20L4 18.59l7.72-7.72 1.47 1.35L5.41 20z\"/>\n",
              "  </svg>\n",
              "      </button>\n",
              "      \n",
              "  <style>\n",
              "    .colab-df-container {\n",
              "      display:flex;\n",
              "      flex-wrap:wrap;\n",
              "      gap: 12px;\n",
              "    }\n",
              "\n",
              "    .colab-df-convert {\n",
              "      background-color: #E8F0FE;\n",
              "      border: none;\n",
              "      border-radius: 50%;\n",
              "      cursor: pointer;\n",
              "      display: none;\n",
              "      fill: #1967D2;\n",
              "      height: 32px;\n",
              "      padding: 0 0 0 0;\n",
              "      width: 32px;\n",
              "    }\n",
              "\n",
              "    .colab-df-convert:hover {\n",
              "      background-color: #E2EBFA;\n",
              "      box-shadow: 0px 1px 2px rgba(60, 64, 67, 0.3), 0px 1px 3px 1px rgba(60, 64, 67, 0.15);\n",
              "      fill: #174EA6;\n",
              "    }\n",
              "\n",
              "    [theme=dark] .colab-df-convert {\n",
              "      background-color: #3B4455;\n",
              "      fill: #D2E3FC;\n",
              "    }\n",
              "\n",
              "    [theme=dark] .colab-df-convert:hover {\n",
              "      background-color: #434B5C;\n",
              "      box-shadow: 0px 1px 3px 1px rgba(0, 0, 0, 0.15);\n",
              "      filter: drop-shadow(0px 1px 2px rgba(0, 0, 0, 0.3));\n",
              "      fill: #FFFFFF;\n",
              "    }\n",
              "  </style>\n",
              "\n",
              "      <script>\n",
              "        const buttonEl =\n",
              "          document.querySelector('#df-d0992b0b-4292-4f7f-a837-434e53c58867 button.colab-df-convert');\n",
              "        buttonEl.style.display =\n",
              "          google.colab.kernel.accessAllowed ? 'block' : 'none';\n",
              "\n",
              "        async function convertToInteractive(key) {\n",
              "          const element = document.querySelector('#df-d0992b0b-4292-4f7f-a837-434e53c58867');\n",
              "          const dataTable =\n",
              "            await google.colab.kernel.invokeFunction('convertToInteractive',\n",
              "                                                     [key], {});\n",
              "          if (!dataTable) return;\n",
              "\n",
              "          const docLinkHtml = 'Like what you see? Visit the ' +\n",
              "            '<a target=\"_blank\" href=https://colab.research.google.com/notebooks/data_table.ipynb>data table notebook</a>'\n",
              "            + ' to learn more about interactive tables.';\n",
              "          element.innerHTML = '';\n",
              "          dataTable['output_type'] = 'display_data';\n",
              "          await google.colab.output.renderOutput(dataTable, element);\n",
              "          const docLink = document.createElement('div');\n",
              "          docLink.innerHTML = docLinkHtml;\n",
              "          element.appendChild(docLink);\n",
              "        }\n",
              "      </script>\n",
              "    </div>\n",
              "  </div>\n",
              "  "
            ]
          },
          "metadata": {},
          "execution_count": 46
        }
      ]
    },
    {
      "cell_type": "markdown",
      "source": [
        "Збережіть отриману таблицю в CSV файл"
      ],
      "metadata": {
        "id": "PyrSB-tq_mDT"
      }
    },
    {
      "cell_type": "code",
      "source": [
        "d.to_csv(\"/content/drive/MyDrive/Data sets/description.csv\", index=False)"
      ],
      "metadata": {
        "id": "TDny8XvEg_KY"
      },
      "execution_count": 47,
      "outputs": []
    }
  ]
}