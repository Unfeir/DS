{
  "nbformat": 4,
  "nbformat_minor": 0,
  "metadata": {
    "colab": {
      "provenance": [],
      "gpuType": "T4",
      "authorship_tag": "ABX9TyOiilmUPD5Thbcl22FFej4x",
      "include_colab_link": true
    },
    "kernelspec": {
      "name": "python3",
      "display_name": "Python 3"
    },
    "language_info": {
      "name": "python"
    },
    "accelerator": "GPU"
  },
  "cells": [
    {
      "cell_type": "markdown",
      "metadata": {
        "id": "view-in-github",
        "colab_type": "text"
      },
      "source": [
        "<a href=\"https://colab.research.google.com/github/Unfeir/DS/blob/main/HW_10.ipynb\" target=\"_parent\"><img src=\"https://colab.research.google.com/assets/colab-badge.svg\" alt=\"Open In Colab\"/></a>"
      ]
    },
    {
      "cell_type": "code",
      "execution_count": 3,
      "metadata": {
        "id": "4SVRS_T9bG4F"
      },
      "outputs": [],
      "source": [
        "import math\n",
        "import random\n",
        "\n",
        "import numpy as np\n",
        "import pandas as pd\n",
        "import matplotlib.pyplot as plt\n",
        "import cv2\n",
        "import seaborn as sn\n",
        "\n",
        "\n",
        "import tensorflow as tf\n",
        "from tensorflow import keras\n",
        "from tensorflow.keras.activations import relu, sigmoid, softmax\n",
        "from tensorflow.keras.callbacks import EarlyStopping, ModelCheckpoint\n",
        "from tensorflow.keras.datasets import fashion_mnist\n",
        "from tensorflow.keras.utils import to_categorical\n",
        "from tensorflow.keras.applications.vgg16 import preprocess_input\n",
        "from tensorflow.keras.preprocessing.image import img_to_array, array_to_img\n",
        "\n",
        "from keras.applications.vgg16 import VGG16\n",
        "from keras.models import Sequential, Model\n",
        "from tensorflow.keras.layers import Dense, Dropout, Flatten\n",
        "from keras.preprocessing.image import ImageDataGenerator\n",
        "from keras import layers\n",
        "from keras import losses\n",
        "from keras import metrics\n",
        "from keras import models\n",
        "from keras import optimizers\n",
        "from sklearn.model_selection import train_test_split\n",
        "\n",
        "from PIL import Image"
      ]
    },
    {
      "cell_type": "markdown",
      "source": [
        "# Частина 1\n",
        "В якості домашнього завдання вам пропонується створити нейронну мережу за допомогою механізмів Keras, яка буде класифікувати товари із датасету fasion_mnist.\n",
        "\n",
        "На відміну від попереднього завдання вам пропонується створити згорткову нейромережу. Підберіть архітектуру мережі та навчіть її на даних із датасету fasion_mnist. Спробуйте досягти максимально можливої точності класифікації за рахунок маніпуляції параметрами мережі. Порівняйте точність отриманої згорткової мережі з точністю багатошарової мережі з попереднього завдання. Зробіть висновки.\n",
        "\n",
        "\n",
        "https://www.tensorflow.org/api_docs/python/tf/keras/datasets/fashion_mnist/load_data"
      ],
      "metadata": {
        "id": "3GTY3pm3eIum"
      }
    },
    {
      "cell_type": "code",
      "source": [
        "lr = 0.0000001\n",
        "n_epochs = 30\n",
        "batch_size = 32\n",
        "num_classes = 10"
      ],
      "metadata": {
        "id": "piZfu0GheZnw"
      },
      "execution_count": 4,
      "outputs": []
    },
    {
      "cell_type": "code",
      "source": [
        "(x_train, y_train), (x_test, y_test) = fashion_mnist.load_data()\n",
        "y_train = np.squeeze(y_train)\n",
        "y_test = np.squeeze(y_test)"
      ],
      "metadata": {
        "id": "cNJTOIAVen8L"
      },
      "execution_count": 5,
      "outputs": []
    },
    {
      "cell_type": "code",
      "source": [
        "x_train = x_train.astype('float32') / 255\n",
        "x_test = x_test.astype('float32') / 255"
      ],
      "metadata": {
        "id": "-5bp3K2pkoUC"
      },
      "execution_count": 6,
      "outputs": []
    },
    {
      "cell_type": "code",
      "source": [
        "x_train.shape, y_train.shape, x_test.shape, y_test.shape"
      ],
      "metadata": {
        "colab": {
          "base_uri": "https://localhost:8080/"
        },
        "id": "ETgOzCiTkpKJ",
        "outputId": "8b810cb2-2332-4f5f-86a1-d6e7e3ef68c8"
      },
      "execution_count": 7,
      "outputs": [
        {
          "output_type": "execute_result",
          "data": {
            "text/plain": [
              "((60000, 28, 28), (60000,), (10000, 28, 28), (10000,))"
            ]
          },
          "metadata": {},
          "execution_count": 7
        }
      ]
    },
    {
      "cell_type": "code",
      "source": [
        "class DataGenerator(tf.keras.utils.Sequence):\n",
        "    def __init__(self, x_data, y_data, batch_size):\n",
        "        self.x_data = x_data\n",
        "        self.y_data = y_data\n",
        "        self.batch_size = batch_size\n",
        "        self.indexes = np.arange(len(self.x_data))\n",
        "\n",
        "    def __len__(self):\n",
        "        return int(np.ceil(len(self.x_data) / self.batch_size))\n",
        "\n",
        "    def __getitem__(self, index):\n",
        "        start_idx = index * self.batch_size\n",
        "        end_idx = (index + 1) * self.batch_size\n",
        "        batch_x = self.x_data[start_idx:end_idx]\n",
        "        batch_y = self.y_data[start_idx:end_idx]\n",
        "\n",
        "        processed_batch_x = [self.preprocess_image(image) for image in batch_x]\n",
        "        return np.array(processed_batch_x), batch_y\n",
        "\n",
        "    def preprocess_image(self, image):\n",
        "        image = Image.fromarray(image)\n",
        "        image = image.resize((150, 150))\n",
        "        image = img_to_array(image)\n",
        "        image = preprocess_input(image)\n",
        "        return image"
      ],
      "metadata": {
        "id": "Vax5ODJ0iRkQ"
      },
      "execution_count": 8,
      "outputs": []
    },
    {
      "cell_type": "code",
      "source": [
        "tf.config.run_functions_eagerly(True)"
      ],
      "metadata": {
        "id": "x58IXi4ps6W_"
      },
      "execution_count": 9,
      "outputs": []
    },
    {
      "cell_type": "code",
      "source": [
        "model = models.Sequential([\n",
        "                           layers.Conv2D(\n",
        "                                         32,\n",
        "                                         (3, 3,),\n",
        "                                         activation='relu',\n",
        "                                         padding='same',\n",
        "                                         input_shape = (28, 28, 1)\n",
        "                                         ),\n",
        "                           layers.MaxPooling2D((2, 2)),\n",
        "\n",
        "                           layers.Conv2D(\n",
        "                                         64,\n",
        "                                         (3, 3),\n",
        "                                         activation='relu'\n",
        "                                         ),\n",
        "                           layers.MaxPooling2D((2, 2)),\n",
        "\n",
        "                           layers.Conv2D(\n",
        "                                         64,\n",
        "                                         (3, 3),\n",
        "                                         activation='relu'\n",
        "                                         ),\n",
        "\n",
        "                           layers.Flatten(),\n",
        "                           layers.Dense(\n",
        "                                        32,\n",
        "                                        activation='relu'\n",
        "                                        ),\n",
        "\n",
        "                           layers.Dense(\n",
        "                                        10,\n",
        "                                        activation='softmax'\n",
        "                                        )\n",
        "                           ])\n",
        "\n"
      ],
      "metadata": {
        "id": "aP1tvPCxe-iZ"
      },
      "execution_count": 9,
      "outputs": []
    },
    {
      "cell_type": "code",
      "source": [
        "model.summary()"
      ],
      "metadata": {
        "colab": {
          "base_uri": "https://localhost:8080/"
        },
        "id": "jq14RCKLe-qI",
        "outputId": "a27b543f-718b-4c8f-a6d6-43a3e3cb706e"
      },
      "execution_count": 10,
      "outputs": [
        {
          "output_type": "stream",
          "name": "stdout",
          "text": [
            "Model: \"sequential\"\n",
            "_________________________________________________________________\n",
            " Layer (type)                Output Shape              Param #   \n",
            "=================================================================\n",
            " conv2d (Conv2D)             (None, 28, 28, 32)        320       \n",
            "                                                                 \n",
            " max_pooling2d (MaxPooling2D  (None, 14, 14, 32)       0         \n",
            " )                                                               \n",
            "                                                                 \n",
            " conv2d_1 (Conv2D)           (None, 12, 12, 64)        18496     \n",
            "                                                                 \n",
            " max_pooling2d_1 (MaxPooling  (None, 6, 6, 64)         0         \n",
            " 2D)                                                             \n",
            "                                                                 \n",
            " conv2d_2 (Conv2D)           (None, 4, 4, 64)          36928     \n",
            "                                                                 \n",
            " flatten (Flatten)           (None, 1024)              0         \n",
            "                                                                 \n",
            " dense (Dense)               (None, 32)                32800     \n",
            "                                                                 \n",
            " dense_1 (Dense)             (None, 10)                330       \n",
            "                                                                 \n",
            "=================================================================\n",
            "Total params: 88,874\n",
            "Trainable params: 88,874\n",
            "Non-trainable params: 0\n",
            "_________________________________________________________________\n"
          ]
        }
      ]
    },
    {
      "cell_type": "code",
      "source": [
        "model.compile(\n",
        "              optimizer='adam',\n",
        "              loss='categorical_crossentropy',\n",
        "              metrics=['accuracy']\n",
        "              )\n",
        "\n",
        "callback_early_stopping = EarlyStopping(\n",
        "    monitor=\"val_accuracy\",\n",
        "    patience=2,\n",
        "    verbose=1,\n",
        "    mode=\"max\",\n",
        ")\n",
        "\n",
        "callback_save = ModelCheckpoint(\n",
        "    \"best.hdf5\",\n",
        "    monitor=\"val_loss\",\n",
        "    save_best_only=True,\n",
        ")"
      ],
      "metadata": {
        "id": "FuyAqyVeg5f5"
      },
      "execution_count": 11,
      "outputs": []
    },
    {
      "cell_type": "code",
      "source": [
        "y_train_enc = keras.utils.to_categorical(y_train, num_classes)\n",
        "y_test_enc = keras.utils.to_categorical(y_test, num_classes)\n",
        "y_train_enc.shape,  y_test_enc.shape"
      ],
      "metadata": {
        "colab": {
          "base_uri": "https://localhost:8080/"
        },
        "id": "1c5rTnyChy0L",
        "outputId": "7c8a235d-0dbc-469a-9e9d-fd65f6a30335"
      },
      "execution_count": 11,
      "outputs": [
        {
          "output_type": "execute_result",
          "data": {
            "text/plain": [
              "((60000, 10), (10000, 10))"
            ]
          },
          "metadata": {},
          "execution_count": 11
        }
      ]
    },
    {
      "cell_type": "code",
      "source": [
        "history = model.fit(x_train,\n",
        "          y_train_enc,\n",
        "          epochs=n_epochs,\n",
        "          batch_size=batch_size,\n",
        "          validation_data=(x_test, y_test_enc),\n",
        "          verbose=1,\n",
        "          callbacks=[callback_early_stopping, callback_save])"
      ],
      "metadata": {
        "colab": {
          "base_uri": "https://localhost:8080/"
        },
        "id": "AWW736xVhDJo",
        "outputId": "2716c0a1-2692-41a3-b41c-a0810599d2dc"
      },
      "execution_count": 13,
      "outputs": [
        {
          "metadata": {
            "tags": null
          },
          "name": "stderr",
          "output_type": "stream",
          "text": [
            "/usr/local/lib/python3.10/dist-packages/tensorflow/python/data/ops/structured_function.py:254: UserWarning: Even though the `tf.config.experimental_run_functions_eagerly` option is set, this option does not apply to tf.data functions. To force eager execution of tf.data functions, please use `tf.data.experimental.enable_debug_mode()`.\n",
            "  warnings.warn(\n"
          ]
        },
        {
          "output_type": "stream",
          "name": "stdout",
          "text": [
            "Epoch 1/30\n",
            "1875/1875 [==============================] - 138s 69ms/step - loss: 0.4782 - accuracy: 0.8260 - val_loss: 0.3516 - val_accuracy: 0.8684\n",
            "Epoch 2/30\n",
            "1875/1875 [==============================] - 104s 55ms/step - loss: 0.3041 - accuracy: 0.8892 - val_loss: 0.2985 - val_accuracy: 0.8904\n",
            "Epoch 3/30\n",
            "1875/1875 [==============================] - 107s 57ms/step - loss: 0.2583 - accuracy: 0.9062 - val_loss: 0.2690 - val_accuracy: 0.9022\n",
            "Epoch 4/30\n",
            "1875/1875 [==============================] - 105s 56ms/step - loss: 0.2279 - accuracy: 0.9165 - val_loss: 0.2774 - val_accuracy: 0.9007\n",
            "Epoch 5/30\n",
            "1875/1875 [==============================] - 103s 55ms/step - loss: 0.2043 - accuracy: 0.9245 - val_loss: 0.2762 - val_accuracy: 0.8992\n",
            "Epoch 5: early stopping\n"
          ]
        }
      ]
    },
    {
      "cell_type": "code",
      "source": [
        "test_loss, test_acc = model.evaluate(x_test, y_test_enc)"
      ],
      "metadata": {
        "colab": {
          "base_uri": "https://localhost:8080/"
        },
        "id": "gcrYqnt0poqU",
        "outputId": "ffed31be-84f2-49d2-f10f-abb9ec49a930"
      },
      "execution_count": 14,
      "outputs": [
        {
          "output_type": "stream",
          "name": "stdout",
          "text": [
            "313/313 [==============================] - 7s 23ms/step - loss: 0.2762 - accuracy: 0.8992\n"
          ]
        }
      ]
    },
    {
      "cell_type": "code",
      "source": [
        "model_2 = models.Sequential([\n",
        "                           layers.Conv2D(\n",
        "                                         32,\n",
        "                                         (3, 3,),\n",
        "                                         activation='relu',\n",
        "                                         padding='same',\n",
        "                                         input_shape = (28, 28, 1)\n",
        "                                         ),\n",
        "                           layers.MaxPooling2D((2, 2)),\n",
        "\n",
        "                           layers.Conv2D(\n",
        "                                         64,\n",
        "                                         (3, 3),\n",
        "                                          padding='same',\n",
        "                                         activation='relu'\n",
        "                                         ),\n",
        "                           layers.MaxPooling2D((2, 2)),\n",
        "\n",
        "                           layers.Conv2D(\n",
        "                                         128,\n",
        "                                         (3, 3),\n",
        "                                         padding='same',\n",
        "                                         activation='relu'\n",
        "                                         ),\n",
        "                           layers.MaxPooling2D((2, 2)),\n",
        "\n",
        "                           layers.Conv2D(\n",
        "                                         256,\n",
        "                                         (3, 3),\n",
        "                                         padding='same',\n",
        "                                         activation='relu'\n",
        "                                         ),\n",
        "                           layers.MaxPooling2D((2, 2)),\n",
        "\n",
        "                           layers.Flatten(),\n",
        "                           layers.Dense(\n",
        "                                        32,\n",
        "                                        activation='relu'\n",
        "                                        ),\n",
        "\n",
        "                           layers.Dense(\n",
        "                                        10,\n",
        "                                        activation='softmax'\n",
        "                                        )\n",
        "                           ])\n",
        "model_2.summary()"
      ],
      "metadata": {
        "colab": {
          "base_uri": "https://localhost:8080/"
        },
        "id": "hcIFirnstDhF",
        "outputId": "5790e46d-bf9b-4e7a-d7bb-235dc8c25cd3"
      },
      "execution_count": 15,
      "outputs": [
        {
          "output_type": "stream",
          "name": "stdout",
          "text": [
            "Model: \"sequential_1\"\n",
            "_________________________________________________________________\n",
            " Layer (type)                Output Shape              Param #   \n",
            "=================================================================\n",
            " conv2d_3 (Conv2D)           (None, 28, 28, 32)        320       \n",
            "                                                                 \n",
            " max_pooling2d_2 (MaxPooling  (None, 14, 14, 32)       0         \n",
            " 2D)                                                             \n",
            "                                                                 \n",
            " conv2d_4 (Conv2D)           (None, 14, 14, 64)        18496     \n",
            "                                                                 \n",
            " max_pooling2d_3 (MaxPooling  (None, 7, 7, 64)         0         \n",
            " 2D)                                                             \n",
            "                                                                 \n",
            " conv2d_5 (Conv2D)           (None, 7, 7, 128)         73856     \n",
            "                                                                 \n",
            " max_pooling2d_4 (MaxPooling  (None, 3, 3, 128)        0         \n",
            " 2D)                                                             \n",
            "                                                                 \n",
            " conv2d_6 (Conv2D)           (None, 3, 3, 256)         295168    \n",
            "                                                                 \n",
            " max_pooling2d_5 (MaxPooling  (None, 1, 1, 256)        0         \n",
            " 2D)                                                             \n",
            "                                                                 \n",
            " flatten_1 (Flatten)         (None, 256)               0         \n",
            "                                                                 \n",
            " dense_2 (Dense)             (None, 32)                8224      \n",
            "                                                                 \n",
            " dense_3 (Dense)             (None, 10)                330       \n",
            "                                                                 \n",
            "=================================================================\n",
            "Total params: 396,394\n",
            "Trainable params: 396,394\n",
            "Non-trainable params: 0\n",
            "_________________________________________________________________\n"
          ]
        }
      ]
    },
    {
      "cell_type": "code",
      "source": [
        "model_2.compile(\n",
        "              optimizer='adam',\n",
        "              loss='categorical_crossentropy',\n",
        "              metrics=['accuracy']\n",
        "              )\n",
        "\n",
        "callback_early_stopping = EarlyStopping(\n",
        "    monitor=\"val_accuracy\",\n",
        "    patience=2,\n",
        "    verbose=1,\n",
        "    mode=\"max\",\n",
        ")\n",
        "\n",
        "callback_save = ModelCheckpoint(\n",
        "    \"best_2.hdf5\",\n",
        "    monitor=\"val_loss\",\n",
        "    save_best_only=True,\n",
        ")"
      ],
      "metadata": {
        "id": "G-oH_XIdtVLs"
      },
      "execution_count": 16,
      "outputs": []
    },
    {
      "cell_type": "code",
      "source": [
        "history_2 = model_2.fit(x_train,\n",
        "          y_train_enc,\n",
        "          epochs=n_epochs,\n",
        "          batch_size=batch_size,\n",
        "          validation_data=(x_test, y_test_enc),\n",
        "          verbose=1,\n",
        "          callbacks=[callback_early_stopping, callback_save])"
      ],
      "metadata": {
        "colab": {
          "base_uri": "https://localhost:8080/"
        },
        "id": "cAonHaKuv7wF",
        "outputId": "4fe1f525-650e-4e49-9917-045e2da23680"
      },
      "execution_count": 17,
      "outputs": [
        {
          "output_type": "stream",
          "name": "stdout",
          "text": [
            "Epoch 1/30\n",
            "1875/1875 [==============================] - 122s 65ms/step - loss: 0.4570 - accuracy: 0.8335 - val_loss: 0.3268 - val_accuracy: 0.8838\n",
            "Epoch 2/30\n",
            "1875/1875 [==============================] - 118s 63ms/step - loss: 0.2882 - accuracy: 0.8949 - val_loss: 0.2818 - val_accuracy: 0.8984\n",
            "Epoch 3/30\n",
            "1875/1875 [==============================] - 119s 64ms/step - loss: 0.2405 - accuracy: 0.9120 - val_loss: 0.2882 - val_accuracy: 0.8970\n",
            "Epoch 4/30\n",
            "1875/1875 [==============================] - 119s 63ms/step - loss: 0.2092 - accuracy: 0.9224 - val_loss: 0.2543 - val_accuracy: 0.9072\n",
            "Epoch 5/30\n",
            "1875/1875 [==============================] - 119s 64ms/step - loss: 0.1841 - accuracy: 0.9323 - val_loss: 0.2388 - val_accuracy: 0.9145\n",
            "Epoch 6/30\n",
            "1875/1875 [==============================] - 119s 64ms/step - loss: 0.1610 - accuracy: 0.9403 - val_loss: 0.2394 - val_accuracy: 0.9198\n",
            "Epoch 7/30\n",
            "1875/1875 [==============================] - 119s 63ms/step - loss: 0.1421 - accuracy: 0.9478 - val_loss: 0.2490 - val_accuracy: 0.9148\n",
            "Epoch 8/30\n",
            "1875/1875 [==============================] - 118s 63ms/step - loss: 0.1235 - accuracy: 0.9537 - val_loss: 0.2551 - val_accuracy: 0.9203\n",
            "Epoch 9/30\n",
            "1875/1875 [==============================] - 118s 63ms/step - loss: 0.1096 - accuracy: 0.9582 - val_loss: 0.2553 - val_accuracy: 0.9203\n",
            "Epoch 10/30\n",
            "1875/1875 [==============================] - 118s 63ms/step - loss: 0.0934 - accuracy: 0.9647 - val_loss: 0.2859 - val_accuracy: 0.9157\n",
            "Epoch 10: early stopping\n"
          ]
        }
      ]
    },
    {
      "cell_type": "code",
      "source": [
        "test_loss_2, test_acc_2 = model_2.evaluate(x_test, y_test_enc)"
      ],
      "metadata": {
        "colab": {
          "base_uri": "https://localhost:8080/"
        },
        "id": "IWAeau9Uuku8",
        "outputId": "0936914d-4a99-4fac-c01b-fe77ee1aecdb"
      },
      "execution_count": 18,
      "outputs": [
        {
          "output_type": "stream",
          "name": "stdout",
          "text": [
            "313/313 [==============================] - 9s 29ms/step - loss: 0.2859 - accuracy: 0.9157\n"
          ]
        }
      ]
    },
    {
      "cell_type": "code",
      "source": [
        "acc = history.history[\"accuracy\"]\n",
        "val_acc = history.history[\"val_accuracy\"]\n",
        "loss = history.history[\"loss\"]\n",
        "val_loss = history.history[\"val_loss\"]\n",
        "\n",
        "epochs = range(1, len(acc) + 1)\n",
        "\n",
        "plt.plot(epochs, acc, \"bo\", label=\"Training acc\")\n",
        "plt.plot(epochs, val_acc, \"b\", label=\"Validation acc\")\n",
        "\n",
        "plt.title(\"Training and validation accuracy\")\n",
        "plt.legend()\n",
        "\n",
        "plt.figure()\n",
        "\n",
        "plt.plot(epochs, loss, \"bo\", label=\"Training loss\")\n",
        "plt.plot(epochs, val_loss, \"b\", label=\"Validation loss\")\n",
        "plt.title(\"Training and validation loss\")\n",
        "\n",
        "plt.legend()\n",
        "plt.show()"
      ],
      "metadata": {
        "colab": {
          "base_uri": "https://localhost:8080/",
          "height": 887
        },
        "id": "UWyTAEv183v8",
        "outputId": "3fa1223d-7213-47f4-9053-b8c7a73eeca6"
      },
      "execution_count": 19,
      "outputs": [
        {
          "output_type": "display_data",
          "data": {
            "text/plain": [
              "<Figure size 640x480 with 1 Axes>"
            ],
            "image/png": "[encoded data removed]"
          },
          "metadata": {}
        },
        {
          "output_type": "display_data",
          "data": {
            "text/plain": [
              "<Figure size 640x480 with 1 Axes>"
            ],
            "image/png": "[encoded data removed]"
          },
          "metadata": {}
        }
      ]
    },
    {
      "cell_type": "code",
      "source": [
        "acc_2 = history_2.history[\"accuracy\"]\n",
        "val_acc_2 = history_2.history[\"val_accuracy\"]\n",
        "loss_2 = history_2.history[\"loss\"]\n",
        "val_loss_2 = history_2.history[\"val_loss\"]\n",
        "\n",
        "epochs = range(1, len(acc_2) + 1)\n",
        "\n",
        "plt.plot(epochs, acc_2, \"bo\", color='red', label=\"Training acc\")\n",
        "plt.plot(epochs, val_acc_2, \"b\", color='red', label=\"Validation acc\")\n",
        "\n",
        "plt.title(\"Training and validation accuracy\")\n",
        "plt.legend()\n",
        "\n",
        "plt.figure()\n",
        "\n",
        "plt.plot(epochs, loss_2, \"bo\", color='red', label=\"Training loss\")\n",
        "plt.plot(epochs, val_loss_2, \"b\", color='red', label=\"Validation loss\")\n",
        "plt.title(\"Training and validation loss\")\n",
        "\n",
        "plt.legend()\n",
        "plt.show()"
      ],
      "metadata": {
        "colab": {
          "base_uri": "https://localhost:8080/",
          "height": 1000
        },
        "id": "ELizbdzP9PX5",
        "outputId": "9542fb25-0ffa-4f0f-8adc-631846049914"
      },
      "execution_count": 20,
      "outputs": [
        {
          "output_type": "stream",
          "name": "stderr",
          "text": [
            "<ipython-input-20-c96ca95cf626>:8: UserWarning: color is redundantly defined by the 'color' keyword argument and the fmt string \"bo\" (-> color='b'). The keyword argument will take precedence.\n",
            "  plt.plot(epochs, acc_2, \"bo\", color='red', label=\"Training acc\")\n",
            "<ipython-input-20-c96ca95cf626>:9: UserWarning: color is redundantly defined by the 'color' keyword argument and the fmt string \"b\" (-> color=(0.0, 0.0, 1.0, 1)). The keyword argument will take precedence.\n",
            "  plt.plot(epochs, val_acc_2, \"b\", color='red', label=\"Validation acc\")\n",
            "<ipython-input-20-c96ca95cf626>:16: UserWarning: color is redundantly defined by the 'color' keyword argument and the fmt string \"bo\" (-> color='b'). The keyword argument will take precedence.\n",
            "  plt.plot(epochs, loss_2, \"bo\", color='red', label=\"Training loss\")\n",
            "<ipython-input-20-c96ca95cf626>:17: UserWarning: color is redundantly defined by the 'color' keyword argument and the fmt string \"b\" (-> color=(0.0, 0.0, 1.0, 1)). The keyword argument will take precedence.\n",
            "  plt.plot(epochs, val_loss_2, \"b\", color='red', label=\"Validation loss\")\n"
          ]
        },
        {
          "output_type": "display_data",
          "data": {
            "text/plain": [
              "<Figure size 640x480 with 1 Axes>"
            ],
            "image/png": "[encoded data removed]"
          },
          "metadata": {}
        },
        {
          "output_type": "display_data",
          "data": {
            "text/plain": [
              "<Figure size 640x480 with 1 Axes>"
            ],
            "image/png": "[encoded data removed]"
          },
          "metadata": {}
        }
      ]
    },
    {
      "cell_type": "markdown",
      "source": [
        "Перша модель loss: 0.2043 - accuracy: 0.9245 - val_loss: 0.2762 - val_accuracy: 0.8992\n",
        "\n",
        "Друга модель loss: 0.0934 - accuracy: 0.9647 - val_loss: 0.2859 - val_accuracy: 0.9157\n",
        "\n",
        "Ускладнення моделі показало дещо кращі показники при валідації. але всеодно обидві піддались перенавчанню. Треба пробувати накладати фільтри на зобрадення для покращення результатів\n",
        "\n",
        "\n"
      ],
      "metadata": {
        "id": "pQIt2xrg-a3T"
      }
    },
    {
      "cell_type": "markdown",
      "source": [
        "# Частина 2\n",
        "В цій частині ми знову будемо працювати з датасетом fasion_mnist.\n",
        "\n",
        "На відміну від попереднього завдання вам пропонується створити згорткову нейромережу, що використовує VGG16 в якості згорткової основи.\n",
        "\n",
        "Навчіть отриману мережу на даних із датасету fasion_mnist. Спробуйте досягти максимально можливої точності класифікації за рахунок маніпуляції параметрами мережі. Під час навчання використовуйте прийоми донавчання та виділення ознак.\n",
        "\n",
        "Порівняйте точність отриманої згорткової мережі з точністю багатошарової мережі з попереднього завдання. Зробіть висновки."
      ],
      "metadata": {
        "id": "m-3d8ZhHecgj"
      }
    },
    {
      "cell_type": "code",
      "source": [
        "(x_train, y_train), (x_test, y_test) = fashion_mnist.load_data()\n",
        "y_train = np.squeeze(y_train)\n",
        "y_test = np.squeeze(y_test)\n",
        "x_train_rgb = np.stack([x_train] * 3, axis=-1)\n",
        "x_test_rgb = np.stack([x_test] * 3, axis=-1)\n",
        "\n",
        "\n",
        "train_generator = DataGenerator(x_train_rgb, y_train_enc, batch_size)\n",
        "test_generator = DataGenerator(x_test_rgb, y_test_enc, batch_size)\n",
        "train_generator[0][0].shape"
      ],
      "metadata": {
        "colab": {
          "base_uri": "https://localhost:8080/"
        },
        "id": "lfFWJk7yA5cW",
        "outputId": "1956b48f-b477-4b9c-847d-89c27427d2a6"
      },
      "execution_count": 12,
      "outputs": [
        {
          "output_type": "execute_result",
          "data": {
            "text/plain": [
              "(32, 150, 150, 3)"
            ]
          },
          "metadata": {},
          "execution_count": 12
        }
      ]
    },
    {
      "cell_type": "code",
      "source": [
        "\n",
        "base_model = VGG16(weights='imagenet', include_top=False, input_shape=(150, 150, 3))\n",
        "base_model.trainable = False\n",
        "flatten_layer = Flatten()(base_model.output)\n",
        "dense_layer = Dense(256, activation='relu')(flatten_layer)\n",
        "output_layer = Dense(num_classes, activation='softmax')(dense_layer)\n",
        "model_3 = Model(inputs=base_model.input, outputs=output_layer)\n",
        "\n",
        "model_3.summary()"
      ],
      "metadata": {
        "colab": {
          "base_uri": "https://localhost:8080/"
        },
        "id": "FT0-Pw8O_Ael",
        "outputId": "2c21fd6d-02f0-4871-9d4b-8b0333261733"
      },
      "execution_count": 22,
      "outputs": [
        {
          "output_type": "stream",
          "name": "stdout",
          "text": [
            "Downloading data from https://storage.googleapis.com/tensorflow/keras-applications/vgg16/vgg16_weights_tf_dim_ordering_tf_kernels_notop.h5\n",
            "58889256/58889256 [==============================] - 4s 0us/step\n",
            "Model: \"model\"\n",
            "_________________________________________________________________\n",
            " Layer (type)                Output Shape              Param #   \n",
            "=================================================================\n",
            " input_1 (InputLayer)        [(None, 150, 150, 3)]     0         \n",
            "                                                                 \n",
            " block1_conv1 (Conv2D)       (None, 150, 150, 64)      1792      \n",
            "                                                                 \n",
            " block1_conv2 (Conv2D)       (None, 150, 150, 64)      36928     \n",
            "                                                                 \n",
            " block1_pool (MaxPooling2D)  (None, 75, 75, 64)        0         \n",
            "                                                                 \n",
            " block2_conv1 (Conv2D)       (None, 75, 75, 128)       73856     \n",
            "                                                                 \n",
            " block2_conv2 (Conv2D)       (None, 75, 75, 128)       147584    \n",
            "                                                                 \n",
            " block2_pool (MaxPooling2D)  (None, 37, 37, 128)       0         \n",
            "                                                                 \n",
            " block3_conv1 (Conv2D)       (None, 37, 37, 256)       295168    \n",
            "                                                                 \n",
            " block3_conv2 (Conv2D)       (None, 37, 37, 256)       590080    \n",
            "                                                                 \n",
            " block3_conv3 (Conv2D)       (None, 37, 37, 256)       590080    \n",
            "                                                                 \n",
            " block3_pool (MaxPooling2D)  (None, 18, 18, 256)       0         \n",
            "                                                                 \n",
            " block4_conv1 (Conv2D)       (None, 18, 18, 512)       1180160   \n",
            "                                                                 \n",
            " block4_conv2 (Conv2D)       (None, 18, 18, 512)       2359808   \n",
            "                                                                 \n",
            " block4_conv3 (Conv2D)       (None, 18, 18, 512)       2359808   \n",
            "                                                                 \n",
            " block4_pool (MaxPooling2D)  (None, 9, 9, 512)         0         \n",
            "                                                                 \n",
            " block5_conv1 (Conv2D)       (None, 9, 9, 512)         2359808   \n",
            "                                                                 \n",
            " block5_conv2 (Conv2D)       (None, 9, 9, 512)         2359808   \n",
            "                                                                 \n",
            " block5_conv3 (Conv2D)       (None, 9, 9, 512)         2359808   \n",
            "                                                                 \n",
            " block5_pool (MaxPooling2D)  (None, 4, 4, 512)         0         \n",
            "                                                                 \n",
            " flatten_2 (Flatten)         (None, 8192)              0         \n",
            "                                                                 \n",
            " dense_4 (Dense)             (None, 256)               2097408   \n",
            "                                                                 \n",
            " dense_5 (Dense)             (None, 10)                2570      \n",
            "                                                                 \n",
            "=================================================================\n",
            "Total params: 16,814,666\n",
            "Trainable params: 2,099,978\n",
            "Non-trainable params: 14,714,688\n",
            "_________________________________________________________________\n"
          ]
        }
      ]
    },
    {
      "cell_type": "code",
      "source": [
        "model_3.compile(optimizer='adam',\n",
        "              loss='categorical_crossentropy',\n",
        "              metrics=['accuracy'])\n",
        "\n",
        "\n",
        "callback_early_stopping = EarlyStopping(\n",
        "    monitor=\"val_accuracy\",\n",
        "    patience=2,\n",
        "    verbose=1,\n",
        "    mode=\"max\",\n",
        ")\n",
        "\n",
        "callback_save = ModelCheckpoint(\n",
        "    \"best_3.hdf5\",\n",
        "    monitor=\"val_loss\",\n",
        "    save_best_only=True,\n",
        ")"
      ],
      "metadata": {
        "id": "g1fP23lKAmJb"
      },
      "execution_count": 23,
      "outputs": []
    },
    {
      "cell_type": "code",
      "source": [
        "history_3 = model_3.fit(train_generator,\n",
        "                    epochs=n_epochs,\n",
        "                    verbose=1,\n",
        "                    validation_data=test_generator,\n",
        "                    callbacks=[callback_early_stopping, callback_save])"
      ],
      "metadata": {
        "colab": {
          "base_uri": "https://localhost:8080/"
        },
        "id": "kTkRcryXAwyK",
        "outputId": "5762b9e9-a22c-473f-a8d8-40b1319f8ace"
      },
      "execution_count": 24,
      "outputs": [
        {
          "output_type": "stream",
          "name": "stdout",
          "text": [
            "Epoch 1/30\n",
            "1875/1875 [==============================] - 586s 308ms/step - loss: 0.5084 - accuracy: 0.8744 - val_loss: 0.3252 - val_accuracy: 0.8863\n",
            "Epoch 2/30\n",
            "1875/1875 [==============================] - 576s 307ms/step - loss: 0.2395 - accuracy: 0.9143 - val_loss: 0.2874 - val_accuracy: 0.9029\n",
            "Epoch 3/30\n",
            "1875/1875 [==============================] - 577s 308ms/step - loss: 0.2081 - accuracy: 0.9265 - val_loss: 0.3087 - val_accuracy: 0.9025\n",
            "Epoch 4/30\n",
            "1875/1875 [==============================] - 575s 307ms/step - loss: 0.1776 - accuracy: 0.9379 - val_loss: 0.3449 - val_accuracy: 0.9018\n",
            "Epoch 4: early stopping\n"
          ]
        }
      ]
    },
    {
      "cell_type": "code",
      "source": [
        "test_loss_3, test_acc_3 = model_3.evaluate(test_generator)"
      ],
      "metadata": {
        "colab": {
          "base_uri": "https://localhost:8080/"
        },
        "id": "XEHIqaLPLbYv",
        "outputId": "9b64a386-06ed-447e-88f9-6c0731458099"
      },
      "execution_count": 25,
      "outputs": [
        {
          "output_type": "stream",
          "name": "stdout",
          "text": [
            "313/313 [==============================] - 33s 106ms/step - loss: 0.3449 - accuracy: 0.9018\n"
          ]
        }
      ]
    },
    {
      "cell_type": "code",
      "source": [
        "acc_3 = history_3.history[\"accuracy\"]\n",
        "val_acc_3 = history_3.history[\"val_accuracy\"]\n",
        "loss_3 = history_3.history[\"loss\"]\n",
        "val_loss_3 = history_3.history[\"val_loss\"]\n",
        "\n",
        "epochs = range(1, len(acc_3) + 1)\n",
        "\n",
        "plt.plot(epochs, acc_3, \"bo\", color='black', label=\"Training acc\")\n",
        "plt.plot(epochs, val_acc_3, \"b\", color='black', label=\"Validation acc\")\n",
        "\n",
        "plt.title(\"Training and validation accuracy\")\n",
        "plt.legend()\n",
        "\n",
        "plt.figure()\n",
        "\n",
        "plt.plot(epochs, loss_3, \"bo\", color='black', label=\"Training loss\")\n",
        "plt.plot(epochs, val_loss_3, \"b\", color='black', label=\"Validation loss\")\n",
        "plt.title(\"Training and validation loss\")\n",
        "\n",
        "plt.legend()\n",
        "plt.show()"
      ],
      "metadata": {
        "colab": {
          "base_uri": "https://localhost:8080/",
          "height": 1000
        },
        "id": "j3bXbOgbLqzk",
        "outputId": "4e23628b-932c-424e-ff56-82e937fa885a"
      },
      "execution_count": 26,
      "outputs": [
        {
          "output_type": "stream",
          "name": "stderr",
          "text": [
            "<ipython-input-26-9d4263ba2b81>:8: UserWarning: color is redundantly defined by the 'color' keyword argument and the fmt string \"bo\" (-> color='b'). The keyword argument will take precedence.\n",
            "  plt.plot(epochs, acc_3, \"bo\", color='black', label=\"Training acc\")\n",
            "<ipython-input-26-9d4263ba2b81>:9: UserWarning: color is redundantly defined by the 'color' keyword argument and the fmt string \"b\" (-> color=(0.0, 0.0, 1.0, 1)). The keyword argument will take precedence.\n",
            "  plt.plot(epochs, val_acc_3, \"b\", color='black', label=\"Validation acc\")\n",
            "<ipython-input-26-9d4263ba2b81>:16: UserWarning: color is redundantly defined by the 'color' keyword argument and the fmt string \"bo\" (-> color='b'). The keyword argument will take precedence.\n",
            "  plt.plot(epochs, loss_3, \"bo\", color='black', label=\"Training loss\")\n",
            "<ipython-input-26-9d4263ba2b81>:17: UserWarning: color is redundantly defined by the 'color' keyword argument and the fmt string \"b\" (-> color=(0.0, 0.0, 1.0, 1)). The keyword argument will take precedence.\n",
            "  plt.plot(epochs, val_loss_3, \"b\", color='black', label=\"Validation loss\")\n"
          ]
        },
        {
          "output_type": "display_data",
          "data": {
            "text/plain": [
              "<Figure size 640x480 with 1 Axes>"
            ],
            "image/png": "[encoded data removed]"
          },
          "metadata": {}
        },
        {
          "output_type": "display_data",
          "data": {
            "text/plain": [
              "<Figure size 640x480 with 1 Axes>"
            ],
            "image/png": "[encoded data removed]"
          },
          "metadata": {}
        }
      ]
    },
    {
      "cell_type": "markdown",
      "source": [
        "loss: 0.1776 - accuracy: 0.9379 - val_loss: 0.3449 - val_accuracy: 0.9018\n",
        "\n",
        "третя моель недивлячись на складність теж не дала суттєвого покращення\n"
      ],
      "metadata": {
        "id": "XE0moV5QUaYa"
      }
    },
    {
      "cell_type": "code",
      "source": [],
      "metadata": {
        "id": "gAW6w3LDWWXH"
      },
      "execution_count": null,
      "outputs": []
    }
  ]
}